{
 "cells": [
  {
   "cell_type": "markdown",
   "metadata": {},
   "source": [
    "# Text2Everything SDK - Complete End-to-End Example\n",
    "\n",
    "This notebook demonstrates a complete workflow using the Text2Everything SDK:\n",
    "**Project → Context → Golden Example → Schema → Connector → Session → Chat → Feedback**\n",
    "\n",
    "## Prerequisites\n",
    "\n",
    "1. Install the SDK: `pip install text2everything-sdk`\n",
    "2. Have your API endpoint and API key ready\n",
    "3. Ensure you have access to the Text2Everything API\n",
    "4. Have a database connection available for the connector example"
   ]
  },
  {
   "cell_type": "markdown",
   "metadata": {},
   "source": [
    "## Setup and Configuration"
   ]
  },
  {
   "cell_type": "code",
   "execution_count": 3,
   "metadata": {},
   "outputs": [
    {
     "name": "stdout",
     "output_type": "stream",
     "text": [
      "✅ SDK imported successfully!\n",
      "Connecting to: http://localhost\n"
     ]
    }
   ],
   "source": [
    "# Import the SDK\n",
    "from text2everything_sdk import Text2EverythingClient\n",
    "from text2everything_sdk.exceptions import (\n",
    "    AuthenticationError,\n",
    "    ValidationError,\n",
    "    NotFoundError,\n",
    "    RateLimitError\n",
    ")\n",
    "import os\n",
    "\n",
    "print(\"✅ SDK imported successfully!\")\n",
    "\n",
    "# Configuration\n",
    "BASE_URL = os.getenv(\"T2E_BASE_URL\")  # Replace with your API endpoint\n",
    "API_KEY = os.getenv(\"T2E_API_KEY\")  # Replace with your API key\n",
    "\n",
    "print(f\"Connecting to: {BASE_URL}\")"
   ]
  },
  {
   "cell_type": "markdown",
   "metadata": {},
   "source": [
    "## Initialize the Client"
   ]
  },
  {
   "cell_type": "code",
   "execution_count": 5,
   "metadata": {},
   "outputs": [
    {
     "name": "stdout",
     "output_type": "stream",
     "text": [
      "✅ Client initialized successfully!\n",
      "Base URL: http://localhost\n"
     ]
    }
   ],
   "source": [
    "# Initialize the Text2Everything client\n",
    "client = Text2EverythingClient(\n",
    "    base_url=BASE_URL,\n",
    "    api_key=API_KEY,\n",
    "    timeout=60,\n",
    "    max_retries=1,\n",
    "    retry_delay=1.0\n",
    ")\n",
    "\n",
    "print(\"✅ Client initialized successfully!\")\n",
    "print(f\"Base URL: {client.base_url}\")"
   ]
  },
  {
   "cell_type": "markdown",
   "metadata": {},
   "source": [
    "## 1. 🆕 Projects - Simplified Creation"
   ]
  },
  {
   "cell_type": "code",
   "execution_count": null,
   "metadata": {},
   "outputs": [
    {
     "name": "stdout",
     "output_type": "stream",
     "text": [
      "✅ Project created with new API pattern!\n",
      "Project ID: a70a686a-d2cc-4755-a502-4772521041fc\n",
      "Project Name: E-commerce Analytics\n"
     ]
    }
   ],
   "source": [
    "# 🆕 NEW: Direct keyword arguments\n",
    "project = client.projects.create(\n",
    "    name=\"E-commerce Analytics\",\n",
    "    description=\"Complete e-commerce data analysis project\"\n",
    ")\n",
    "\n",
    "print(\"✅ Project created !\")\n",
    "print(f\"Project ID: {project.id}\")\n",
    "print(f\"Project Name: {project.name}\")\n",
    "\n",
    "PROJECT_ID = project.id"
   ]
  },
  {
   "cell_type": "markdown",
   "metadata": {},
   "source": [
    "## 2. 🆕 Contexts - Simplified Creation"
   ]
  },
  {
   "cell_type": "code",
   "execution_count": null,
   "metadata": {},
   "outputs": [
    {
     "name": "stdout",
     "output_type": "stream",
     "text": [
      "✅ Context created with new API pattern!\n",
      "Context ID: 6e9ef8a1-c6c0-462c-ad70-82db3b9b6c74\n",
      "Always displayed: True\n"
     ]
    }
   ],
   "source": [
    "# 🆕 NEW: Direct keyword arguments\n",
    "context = client.contexts.create(\n",
    "    project_id=PROJECT_ID,\n",
    "    name=\"E-commerce Business Rules\",\n",
    "    description=\"Business rules and definitions for e-commerce analytics\",\n",
    "    content=\"\"\"Business Rules:\n",
    "- Revenue = quantity * unit_price\n",
    "- Active customers have made a purchase in the last 90 days\n",
    "- High-value customers have lifetime value > $1000\n",
    "\n",
    "Definitions:\n",
    "- LTV: Customer Lifetime Value\n",
    "- AOV: Average Order Value\n",
    "- Churn: Customers who haven't purchased in 180+ days\n",
    "\"\"\",\n",
    "    is_always_displayed=True\n",
    ")\n",
    "\n",
    "print(\"✅ Context created !\")\n",
    "print(f\"Context ID: {context.id}\")\n",
    "print(f\"Always displayed: {context.is_always_displayed}\")"
   ]
  },
  {
   "cell_type": "markdown",
   "metadata": {},
   "source": [
    "## 3. 🆕 Golden Examples - Simplified Creation & Bulk Operations"
   ]
  },
  {
   "cell_type": "code",
   "execution_count": null,
   "metadata": {},
   "outputs": [
    {
     "name": "stdout",
     "output_type": "stream",
     "text": [
      "✅ Golden example created with new API pattern!\n",
      "Example ID: cf19a7ce-0ce3-4c0c-af18-dee729dafbd8\n",
      "✅ Bulk created 2 examples with new API pattern!\n"
     ]
    }
   ],
   "source": [
    "# 🆕 NEW: Individual creation with keyword arguments\n",
    "example1 = client.golden_examples.create(\n",
    "    project_id=PROJECT_ID,\n",
    "    user_query=\"What is our total revenue?\",\n",
    "    sql_query=\"SELECT SUM(quantity * unit_price) as total_revenue FROM orders WHERE status = 'completed';\",\n",
    "    description=\"Calculate total revenue from all completed orders\",\n",
    "    is_always_displayed=True\n",
    ")\n",
    "\n",
    "print(\"✅ Golden example created!\")\n",
    "print(f\"Example ID: {example1.id}\")\n",
    "\n",
    "# 🆕 NEW: Bulk creation with list of dictionaries\n",
    "examples_data = [\n",
    "    {\n",
    "        \"user_query\": \"Who are our top 10 customers by total spending?\",\n",
    "        \"sql_query\": \"SELECT c.customer_id, c.name, SUM(o.quantity * o.unit_price) as total_spent FROM customers c JOIN orders o ON c.customer_id = o.customer_id WHERE o.status = 'completed' GROUP BY c.customer_id, c.name ORDER BY total_spent DESC LIMIT 10;\",\n",
    "        \"description\": \"Find top 10 customers by total spending\"\n",
    "    },\n",
    "    {\n",
    "        \"user_query\": \"Show me monthly sales for this year\",\n",
    "        \"sql_query\": \"SELECT DATE_TRUNC('month', order_date) as month, SUM(quantity * unit_price) as monthly_revenue FROM orders WHERE status = 'completed' AND EXTRACT(YEAR FROM order_date) = EXTRACT(YEAR FROM CURRENT_DATE) GROUP BY DATE_TRUNC('month', order_date) ORDER BY month;\",\n",
    "        \"description\": \"Monthly sales trend for the current year\"\n",
    "    }\n",
    "]\n",
    "\n",
    "bulk_examples = client.golden_examples.bulk_create(\n",
    "    project_id=PROJECT_ID,\n",
    "    golden_examples=examples_data\n",
    ")\n",
    "\n",
    "print(f\"✅ Bulk created {len(bulk_examples)} examples!\")"
   ]
  },
  {
   "cell_type": "markdown",
   "metadata": {},
   "source": [
    "## 4. 🆕 Schema Metadata - Simplified Creation & Bulk Operations"
   ]
  },
  {
   "cell_type": "code",
   "execution_count": 9,
   "metadata": {},
   "outputs": [
    {
     "name": "stdout",
     "output_type": "stream",
     "text": [
      "✅ Schema metadata created !\n",
      "Schema ID: bf1d02d9-0433-41c4-a0ad-5e2530a70ee1\n",
      "✅ Bulk created 2 schemas !\n"
     ]
    }
   ],
   "source": [
    "# 🆕 NEW: Individual creation with keyword arguments\n",
    "customers_schema = client.schema_metadata.create(\n",
    "    project_id=PROJECT_ID,\n",
    "    name=\"customers_table\",\n",
    "    description=\"Customer information table\",\n",
    "    schema_data={\n",
    "        \"table\": {\n",
    "            \"name\": \"customers\",\n",
    "            \"columns\": [\n",
    "                {\"name\": \"customer_id\", \"type\": \"INTEGER\", \"primary_key\": True},\n",
    "                {\"name\": \"name\", \"type\": \"VARCHAR(100)\", \"nullable\": False},\n",
    "                {\"name\": \"email\", \"type\": \"VARCHAR(255)\", \"unique\": True},\n",
    "                {\"name\": \"registration_date\", \"type\": \"DATE\"},\n",
    "                {\"name\": \"is_active\", \"type\": \"BOOLEAN\", \"default\": True}\n",
    "            ]\n",
    "        }\n",
    "    },\n",
    "    is_always_displayed=True,\n",
    "    validate=True\n",
    ")\n",
    "\n",
    "print(\"✅ Schema metadata created !\")\n",
    "print(f\"Schema ID: {customers_schema.id}\")\n",
    "\n",
    "# 🆕 NEW: Bulk creation with list of dictionaries\n",
    "schemas_data = [\n",
    "    {\n",
    "        \"name\": \"orders_table\",\n",
    "        \"description\": \"Order transactions table\",\n",
    "        \"schema_data\": {\n",
    "            \"table\": {\n",
    "                \"name\": \"orders\",\n",
    "                \"columns\": [\n",
    "                    {\"name\": \"order_id\", \"type\": \"INTEGER\", \"primary_key\": True},\n",
    "                    {\"name\": \"customer_id\", \"type\": \"INTEGER\", \"foreign_key\": \"customers.customer_id\"},\n",
    "                    {\"name\": \"product_id\", \"type\": \"INTEGER\", \"foreign_key\": \"products.product_id\"},\n",
    "                    {\"name\": \"quantity\", \"type\": \"INTEGER\"},\n",
    "                    {\"name\": \"unit_price\", \"type\": \"DECIMAL(10,2)\"},\n",
    "                    {\"name\": \"order_date\", \"type\": \"TIMESTAMP\"},\n",
    "                    {\"name\": \"status\", \"type\": \"VARCHAR(20)\", \"default\": \"pending\"}\n",
    "                ]\n",
    "            }\n",
    "        }\n",
    "    },\n",
    "    {\n",
    "        \"name\": \"products_table\",\n",
    "        \"description\": \"Product catalog table\",\n",
    "        \"schema_data\": {\n",
    "            \"table\": {\n",
    "                \"name\": \"products\",\n",
    "                \"columns\": [\n",
    "                    {\"name\": \"product_id\", \"type\": \"INTEGER\", \"primary_key\": True},\n",
    "                    {\"name\": \"name\", \"type\": \"VARCHAR(200)\"},\n",
    "                    {\"name\": \"category\", \"type\": \"VARCHAR(50)\"},\n",
    "                    {\"name\": \"price\", \"type\": \"DECIMAL(10,2)\"},\n",
    "                    {\"name\": \"in_stock\", \"type\": \"BOOLEAN\"}\n",
    "                ]\n",
    "            }\n",
    "        }\n",
    "    }\n",
    "]\n",
    "\n",
    "bulk_schemas = client.schema_metadata.bulk_create(\n",
    "    project_id=PROJECT_ID,\n",
    "    schema_metadata_list=schemas_data,\n",
    "    validate=True\n",
    ")\n",
    "\n",
    "print(f\"✅ Bulk created {len(bulk_schemas)} schemas !\")"
   ]
  },
  {
   "cell_type": "markdown",
   "metadata": {},
   "source": [
    "## 5. 🆕 Connectors - Simplified Creation with Smart Defaults"
   ]
  },
  {
   "cell_type": "code",
   "execution_count": 11,
   "metadata": {},
   "outputs": [
    {
     "name": "stdout",
     "output_type": "stream",
     "text": [
      "✅ Connector created !\n",
      "Connector ID: 6f3b9450-733b-43c7-b10b-7dd9d2370a16\n",
      "Database Type: snowflake\n",
      "Host: H2OAIORG-H2O_AI_SNOWPARK_CONTAINERS.snowflakecomputing.com:443\n",
      "🆕 Smart default port: 443 (auto-detected for snowflake)\n",
      "Database: TEXT_2_EVERYTHING\n",
      "Warehouse: TEXT_2_EVERYTHING_WH\n",
      "Role: TEXT_2_EVERYTHING_ADMIN\n"
     ]
    }
   ],
   "source": [
    "# 🆕 NEW: Direct keyword arguments with smart port defaults\n",
    "# Using H2O AI Snowflake connector for demo data\n",
    "connector = client.connectors.create(\n",
    "    name=\"h2o-snowflake-connector\",\n",
    "    description=\"H2O AI Snowflake connector for Text2Everything demo data\",\n",
    "    db_type=\"snowflake\",  # Smart default: port=443\n",
    "    host=os.getenv(\"SNOWFLAKE_HOST\"),\n",
    "    username=os.getenv(\"SNOWFLAKE_USERNAME\"),\n",
    "    password=os.getenv(\"SNOWFLAKE_PASSWORD\"),\n",
    "    database=os.getenv(\"SNOWFLAKE_DATABASE\"),\n",
    "    config={\n",
    "        \"warehouse\": os.getenv(\"SNOWFLAKE_WAREHOUSE\"),\n",
    "        \"role\": os.getenv(\"SNOWFLAKE_ROLE\")\n",
    "    }\n",
    ")\n",
    "\n",
    "# Alternative PostgreSQL example (commented out):\n",
    "# connector = client.connectors.create(\n",
    "#     name=\"E-commerce Database\",\n",
    "#     description=\"Production e-commerce PostgreSQL database\",\n",
    "#     db_type=\"postgres\",  # Smart default: port=5432\n",
    "#     host=\"localhost\",\n",
    "#     # port is optional - defaults to 5432 for postgres\n",
    "#     username=\"ecommerce_user\",\n",
    "#     password=\"your_password\",\n",
    "#     database=\"ecommerce_db\"\n",
    "# )\n",
    "\n",
    "print(\"✅ Connector created !\")\n",
    "print(f\"Connector ID: {connector.id}\")\n",
    "print(f\"Database Type: {connector.db_type}\")\n",
    "print(f\"Host: {connector.host}:{connector.port}\")\n",
    "print(f\"🆕 Smart default port: {connector.port} (auto-detected for {connector.db_type})\")\n",
    "print(f\"Database: {connector.database}\")\n",
    "if hasattr(connector, 'config') and connector.config:\n",
    "    print(f\"Warehouse: {connector.config.get('warehouse', 'N/A')}\")\n",
    "    print(f\"Role: {connector.config.get('role', 'N/A')}\")\n",
    "\n",
    "CONNECTOR_ID = connector.id"
   ]
  },
  {
   "cell_type": "markdown",
   "metadata": {},
   "source": [
    "## 6. 🆕 Chat Sessions - Simplified Creation"
   ]
  },
  {
   "cell_type": "code",
   "execution_count": 12,
   "metadata": {},
   "outputs": [
    {
     "name": "stdout",
     "output_type": "stream",
     "text": [
      "✅ Chat session created !\n",
      "Session ID: 009ee8b1-b463-45ab-bd39-ade9a1a93c8d\n",
      "Session Name: E-commerce Analytics Session\n"
     ]
    }
   ],
   "source": [
    "# 🆕 NEW: Direct keyword arguments\n",
    "session = client.chat_sessions.create(\n",
    "    project_id=PROJECT_ID,\n",
    "    name=\"E-commerce Analytics Session\",\n",
    "    description=\"Interactive session for e-commerce data analysis\"\n",
    ")\n",
    "\n",
    "print(\"✅ Chat session created !\")\n",
    "print(f\"Session ID: {session.id}\")\n",
    "print(f\"Session Name: {session.name}\")\n",
    "\n",
    "SESSION_ID = session.id"
   ]
  },
  {
   "cell_type": "markdown",
   "metadata": {},
   "source": [
    "## 7. 🆕 Chat Methods - Simplified Text-to-SQL & Chat-to-Answer"
   ]
  },
  {
   "cell_type": "code",
   "execution_count": null,
   "metadata": {},
   "outputs": [
    {
     "name": "stdout",
     "output_type": "stream",
     "text": [
      "✅ SQL generated !\n",
      "Generated SQL: SELECT SUM(quantity * unit_price) as total_revenue \n",
      "FROM orders \n",
      "WHERE status = 'completed' \n",
      "AND EXTRACT(YEAR FROM order_date) = EXTRACT(YEAR FROM CURRENT_DATE);\n",
      "✅ Answer generated !\n",
      "Answer: {'data': [['CURRENT_VERSION()'], ['9.25.1']], 'columns': ['CURRENT_VERSION()'], 'rowCount': 1}\n",
      "🆕 Required connector_id ensures reliable execution\n"
     ]
    }
   ],
   "source": [
    "# 🆕 NEW: chat_to_sql with keyword arguments\n",
    "sql_response = client.chat.chat_to_sql(\n",
    "    project_id=PROJECT_ID,\n",
    "    chat_session_id=SESSION_ID,\n",
    "    query=\"What is our total revenue this year?\",\n",
    "    schema_metadata_id=customers_schema.id,\n",
    "    contexts_limit=5,\n",
    "    examples_limit=3\n",
    ")\n",
    "\n",
    "print(\"✅ SQL generated !\")\n",
    "print(f\"Generated SQL: {sql_response.sql_query}\")\n",
    "\n",
    "# 🆕 NEW: chat_to_answer with keyword arguments (connector_id now required)\n",
    "answer_response = client.chat.chat_to_answer(\n",
    "    project_id=PROJECT_ID,\n",
    "    chat_session_id=SESSION_ID,\n",
    "    query=\"Version of the database\",\n",
    "    connector_id=CONNECTOR_ID,  # 🆕 Now required for better reliability\n",
    "    schema_metadata_id=customers_schema.id,\n",
    "    contexts_limit=5,\n",
    "    examples_limit=3\n",
    ")\n",
    "\n",
    "print(\"✅ Answer generated !\")\n",
    "print(f\"Answer: {answer_response.execution_result.result if hasattr(answer_response, 'execution_result') else 'N/A'}\")\n",
    "print(f\"🆕 Required connector_id ensures reliable execution\")"
   ]
  },
  {
   "cell_type": "markdown",
   "metadata": {},
   "source": [
    "## 8. 🆕 Executions - Simplified SQL Execution"
   ]
  },
  {
   "cell_type": "code",
   "execution_count": null,
   "metadata": {},
   "outputs": [],
   "source": [
    "# 🆕 NEW: execute_sql with keyword arguments\n",
    "execution_result = client.executions.execute_sql(\n",
    "    connector_id=CONNECTOR_ID,\n",
    "    h2ogpte_session_id=\"session_123\",\n",
    "    sql_query=\"SELECT CURRENT_VERSION();\"\n",
    ")\n",
    "\n",
    "print(\"✅ SQL executed !\")\n",
    "print(f\"Execution ID: {execution_result.id}\")\n",
    "if execution_result.execution_result:\n",
    "    print(f\"Results: {execution_result.result}\")"
   ]
  },
  {
   "cell_type": "markdown",
   "metadata": {},
   "source": [
    "## 9. 🆕 Feedback - Simplified Feedback Creation"
   ]
  },
  {
   "cell_type": "code",
   "execution_count": 17,
   "metadata": {},
   "outputs": [
    {
     "ename": "NameError",
     "evalue": "name 'execution_result' is not defined",
     "output_type": "error",
     "traceback": [
      "\u001b[0;31m---------------------------------------------------------------------------\u001b[0m",
      "\u001b[0;31mNameError\u001b[0m                                 Traceback (most recent call last)",
      "Cell \u001b[0;32mIn[17], line 7\u001b[0m\n\u001b[1;32m      1\u001b[0m \u001b[38;5;66;03m# 🆕 NEW: Direct keyword arguments for feedback\u001b[39;00m\n\u001b[1;32m      2\u001b[0m positive_feedback \u001b[38;5;241m=\u001b[39m client\u001b[38;5;241m.\u001b[39mfeedback\u001b[38;5;241m.\u001b[39mcreate(\n\u001b[1;32m      3\u001b[0m     project_id\u001b[38;5;241m=\u001b[39mPROJECT_ID,\n\u001b[1;32m      4\u001b[0m     chat_message_id\u001b[38;5;241m=\u001b[39msql_response\u001b[38;5;241m.\u001b[39mid,\n\u001b[1;32m      5\u001b[0m     feedback\u001b[38;5;241m=\u001b[39m\u001b[38;5;124m\"\u001b[39m\u001b[38;5;124mPerfect SQL query! Exactly what I needed.\u001b[39m\u001b[38;5;124m\"\u001b[39m,\n\u001b[1;32m      6\u001b[0m     is_positive\u001b[38;5;241m=\u001b[39m\u001b[38;5;28;01mTrue\u001b[39;00m,\n\u001b[0;32m----> 7\u001b[0m     execution_id\u001b[38;5;241m=\u001b[39m\u001b[43mexecution_result\u001b[49m\u001b[38;5;241m.\u001b[39mexecution_id\n\u001b[1;32m      8\u001b[0m )\n\u001b[1;32m     10\u001b[0m \u001b[38;5;28mprint\u001b[39m(\u001b[38;5;124m\"\u001b[39m\u001b[38;5;124m✅ Positive feedback created !\u001b[39m\u001b[38;5;124m\"\u001b[39m)\n\u001b[1;32m     11\u001b[0m \u001b[38;5;28mprint\u001b[39m(\u001b[38;5;124mf\u001b[39m\u001b[38;5;124m\"\u001b[39m\u001b[38;5;124mFeedback ID: \u001b[39m\u001b[38;5;132;01m{\u001b[39;00mpositive_feedback\u001b[38;5;241m.\u001b[39mid\u001b[38;5;132;01m}\u001b[39;00m\u001b[38;5;124m\"\u001b[39m)\n",
      "\u001b[0;31mNameError\u001b[0m: name 'execution_result' is not defined"
     ]
    }
   ],
   "source": [
    "# 🆕 NEW: Direct keyword arguments for feedback\n",
    "positive_feedback = client.feedback.create(\n",
    "    project_id=PROJECT_ID,\n",
    "    chat_message_id=sql_response.id,\n",
    "    feedback=\"Perfect SQL query! Exactly what I needed.\",\n",
    "    is_positive=True,\n",
    "    execution_id=execution_result.execution_id\n",
    ")\n",
    "\n",
    "print(\"✅ Positive feedback created !\")\n",
    "print(f\"Feedback ID: {positive_feedback.id}\")\n",
    "print(f\"Is Positive: {positive_feedback.is_positive}\")\n",
    "\n",
    "# 🆕 NEW: Helper methods also use new pattern\n",
    "negative_feedback = client.feedback.create_negative(\n",
    "    project_id=PROJECT_ID,\n",
    "    chat_message_id=sql_response.id,\n",
    "    feedback=\"Query could be improved with better filtering.\"\n",
    ")\n",
    "\n",
    "print(\"✅ Negative feedback created with helper method!\")\n",
    "print(f\"Feedback ID: {negative_feedback.id}\")"
   ]
  },
  {
   "cell_type": "markdown",
   "metadata": {},
   "source": [
    "## 10. 🆕 Update Operations - Simplified Updates"
   ]
  },
  {
   "cell_type": "code",
   "execution_count": null,
   "metadata": {},
   "outputs": [],
   "source": [
    "# 🆕 NEW: Update operations with keyword arguments\n",
    "\n",
    "# Update project\n",
    "updated_project = client.projects.update(\n",
    "    project_id=PROJECT_ID,\n",
    "    name=\"E-commerce Analytics - Updated\",\n",
    "    description=\"Updated description with new insights\"\n",
    ")\n",
    "\n",
    "print(\"✅ Project updated !\")\n",
    "print(f\"New name: {updated_project.name}\")\n",
    "\n",
    "# Update connector\n",
    "updated_connector = client.connectors.update(\n",
    "    connector_id=CONNECTOR_ID,\n",
    "    name=\"E-commerce Database - Production\",\n",
    "    description=\"Updated production database connector\"\n",
    ")\n",
    "\n",
    "print(\"✅ Connector updated !\")\n",
    "print(f\"New name: {updated_connector.name}\")\n",
    "\n",
    "# Update schema metadata\n",
    "updated_schema = client.schema_metadata.update(\n",
    "    schema_id=customers_schema.id,\n",
    "    name=\"customers_table_v2\",\n",
    "    description=\"Updated customer information table with new fields\"\n",
    ")\n",
    "\n",
    "print(\"✅ Schema metadata updated !\")\n",
    "print(f\"New name: {updated_schema.name}\")"
   ]
  },
  {
   "cell_type": "code",
   "execution_count": null,
   "metadata": {},
   "outputs": [],
   "source": [
    "# Clean up\n",
    "client.close()\n",
    "print(\"✅ Client connection closed\")\n",
    "print(\"\\n🎉 API Patterns Demo Complete!\")"
   ]
  }
 ],
 "metadata": {
  "kernelspec": {
   "display_name": "text2everything-sdk",
   "language": "python",
   "name": "python3"
  },
  "language_info": {
   "codemirror_mode": {
    "name": "ipython",
    "version": 3
   },
   "file_extension": ".py",
   "mimetype": "text/x-python",
   "name": "python",
   "nbconvert_exporter": "python",
   "pygments_lexer": "ipython3",
   "version": "3.10.18"
  }
 },
 "nbformat": 4,
 "nbformat_minor": 4
}

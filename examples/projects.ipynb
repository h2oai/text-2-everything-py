{
 "cells": [
  {
   "cell_type": "markdown",
   "metadata": {},
   "source": [
    "# Text2Everything SDK - Projects Resource\n",
    "\n",
    "This notebook demonstrates how to use the **Projects** resource in the Text2Everything SDK.\n",
    "\n",
    "Projects are the top-level organizational unit that contain all other resources like contexts, schemas, connectors, and chat sessions.\n",
    "\n",
    "## What you'll learn:\n",
    "- Create and manage projects\n",
    "- List and retrieve projects\n",
    "- Update project information\n",
    "- Check project existence\n",
    "- Best practices for project organization"
   ]
  },
  {
   "cell_type": "markdown",
   "metadata": {},
   "source": [
    "## Setup and Configuration"
   ]
  },
  {
   "cell_type": "code",
   "execution_count": 3,
   "metadata": {},
   "outputs": [
    {
     "name": "stdout",
     "output_type": "stream",
     "text": [
      "Found existing installation: text2everything-sdk 0.1.2\n",
      "Uninstalling text2everything-sdk-0.1.2:\n",
      "  Successfully uninstalled text2everything-sdk-0.1.2\n",
      "Obtaining file:///home/rubenamtz/projects/h2o/text-2-everything/text2everything_sdk\n",
      "  Preparing metadata (setup.py) ... \u001b[?25ldone\n",
      "\u001b[?25hRequirement already satisfied: httpx>=0.25.0 in /home/rubenamtz/miniconda3/envs/text2everything-sdk/lib/python3.10/site-packages (from text2everything-sdk==0.1.2) (0.28.1)\n",
      "Requirement already satisfied: pydantic>=2.0.0 in /home/rubenamtz/miniconda3/envs/text2everything-sdk/lib/python3.10/site-packages (from text2everything-sdk==0.1.2) (2.11.7)\n",
      "Requirement already satisfied: typing-extensions>=4.5.0 in /home/rubenamtz/miniconda3/envs/text2everything-sdk/lib/python3.10/site-packages (from text2everything-sdk==0.1.2) (4.15.0)\n",
      "Requirement already satisfied: anyio in /home/rubenamtz/miniconda3/envs/text2everything-sdk/lib/python3.10/site-packages (from httpx>=0.25.0->text2everything-sdk==0.1.2) (4.10.0)\n",
      "Requirement already satisfied: certifi in /home/rubenamtz/miniconda3/envs/text2everything-sdk/lib/python3.10/site-packages (from httpx>=0.25.0->text2everything-sdk==0.1.2) (2025.8.3)\n",
      "Requirement already satisfied: httpcore==1.* in /home/rubenamtz/miniconda3/envs/text2everything-sdk/lib/python3.10/site-packages (from httpx>=0.25.0->text2everything-sdk==0.1.2) (1.0.9)\n",
      "Requirement already satisfied: idna in /home/rubenamtz/miniconda3/envs/text2everything-sdk/lib/python3.10/site-packages (from httpx>=0.25.0->text2everything-sdk==0.1.2) (3.10)\n",
      "Requirement already satisfied: h11>=0.16 in /home/rubenamtz/miniconda3/envs/text2everything-sdk/lib/python3.10/site-packages (from httpcore==1.*->httpx>=0.25.0->text2everything-sdk==0.1.2) (0.16.0)\n",
      "Requirement already satisfied: annotated-types>=0.6.0 in /home/rubenamtz/miniconda3/envs/text2everything-sdk/lib/python3.10/site-packages (from pydantic>=2.0.0->text2everything-sdk==0.1.2) (0.7.0)\n",
      "Requirement already satisfied: pydantic-core==2.33.2 in /home/rubenamtz/miniconda3/envs/text2everything-sdk/lib/python3.10/site-packages (from pydantic>=2.0.0->text2everything-sdk==0.1.2) (2.33.2)\n",
      "Requirement already satisfied: typing-inspection>=0.4.0 in /home/rubenamtz/miniconda3/envs/text2everything-sdk/lib/python3.10/site-packages (from pydantic>=2.0.0->text2everything-sdk==0.1.2) (0.4.1)\n",
      "Requirement already satisfied: exceptiongroup>=1.0.2 in /home/rubenamtz/miniconda3/envs/text2everything-sdk/lib/python3.10/site-packages (from anyio->httpx>=0.25.0->text2everything-sdk==0.1.2) (1.3.0)\n",
      "Requirement already satisfied: sniffio>=1.1 in /home/rubenamtz/miniconda3/envs/text2everything-sdk/lib/python3.10/site-packages (from anyio->httpx>=0.25.0->text2everything-sdk==0.1.2) (1.3.1)\n",
      "Installing collected packages: text2everything-sdk\n",
      "\u001b[33m  DEPRECATION: Legacy editable install of text2everything-sdk==0.1.2 from file:///home/rubenamtz/projects/h2o/text-2-everything/text2everything_sdk (setup.py develop) is deprecated. pip 25.3 will enforce this behaviour change. A possible replacement is to add a pyproject.toml or enable --use-pep517, and use setuptools >= 64. If the resulting installation is not behaving as expected, try using --config-settings editable_mode=compat. Please consult the setuptools documentation for more information. Discussion can be found at https://github.com/pypa/pip/issues/11457\u001b[0m\u001b[33m\n",
      "\u001b[0m  Running setup.py develop for text2everything-sdk\n",
      "Successfully installed text2everything-sdk\n",
      "SDK path added to sys.path: /home/rubenamtz/projects/h2o/text-2-everything\n",
      "✅ SDK imported successfully!\n"
     ]
    }
   ],
   "source": [
    "# Install/reinstall the SDK if needed\n",
    "!pip uninstall text2everything-sdk -y && cd .. && pip install -e .\n",
    "\n",
    "import sys\n",
    "import os\n",
    "\n",
    "# Add the SDK path to Python path if needed (for development)\n",
    "sdk_path = os.path.abspath('../../')\n",
    "if sdk_path not in sys.path:\n",
    "    sys.path.insert(0, sdk_path)\n",
    "\n",
    "# print the path\n",
    "print(f\"SDK path added to sys.path: {sdk_path}\")\n",
    "\n",
    "# Import the SDK\n",
    "from text2everything_sdk import Text2EverythingClient\n",
    "from text2everything_sdk.exceptions import (\n",
    "    AuthenticationError,\n",
    "    ValidationError,\n",
    "    NotFoundError,\n",
    "    RateLimitError\n",
    ")\n",
    "\n",
    "print(\"✅ SDK imported successfully!\")"
   ]
  },
  {
   "cell_type": "code",
   "execution_count": null,
   "metadata": {},
   "outputs": [
    {
     "name": "stdout",
     "output_type": "stream",
     "text": [
      "✅ Client initialized successfully!\n",
      "Base URL: https://your-api-endpoint.com\n"
     ]
    }
   ],
   "source": [
    "# Configuration\n",
    "BASE_URL = \"https://your-api-endpoint.com\"  # Replace with your API endpoint\n",
    "ACCESS_TOKEN = \"your-access-token\"  # Replace with your access token\n",
    "WORKSPACE_NAME = \"workspaces/dev\"  # Optional workspace name\n",
    "\n",
    "# Initialize the Text2Everything client\n",
    "client = Text2EverythingClient(\n",
    "    base_url=BASE_URL,\n",
    "    access_token=ACCESS_TOKEN,\n",
    "    workspace_name=WORKSPACE_NAME,\n",
    "    timeout=60,\n",
    "    max_retries=3,\n",
    "    retry_delay=1.0\n",
    ")\n",
    "\n",
    "print(\"✅ Client initialized successfully!\")\n",
    "print(f\"Base URL: {client.base_url}\")"
   ]
  },
  {
   "cell_type": "markdown",
   "metadata": {},
   "source": [
    "## 1. Creating Projects\n",
    "\n",
    "Projects are created using the new keyword argument pattern. You can specify a name and description."
   ]
  },
  {
   "cell_type": "code",
   "execution_count": 5,
   "metadata": {},
   "outputs": [
    {
     "ename": "ValidationError",
     "evalue": "3 validation errors for Project\nid\n  Field required [type=missing, input_value={'error': 'Invalid JSON response'}, input_type=dict]\n    For further information visit https://errors.pydantic.dev/2.11/v/missing\ncreated_at\n  Field required [type=missing, input_value={'error': 'Invalid JSON response'}, input_type=dict]\n    For further information visit https://errors.pydantic.dev/2.11/v/missing\nname\n  Field required [type=missing, input_value={'error': 'Invalid JSON response'}, input_type=dict]\n    For further information visit https://errors.pydantic.dev/2.11/v/missing",
     "output_type": "error",
     "traceback": [
      "\u001b[0;31m---------------------------------------------------------------------------\u001b[0m",
      "\u001b[0;31mValidationError\u001b[0m                           Traceback (most recent call last)",
      "Cell \u001b[0;32mIn[5], line 2\u001b[0m\n\u001b[1;32m      1\u001b[0m \u001b[38;5;66;03m# Create a new project with keyword arguments\u001b[39;00m\n\u001b[0;32m----> 2\u001b[0m project \u001b[38;5;241m=\u001b[39m \u001b[43mclient\u001b[49m\u001b[38;5;241;43m.\u001b[39;49m\u001b[43mprojects\u001b[49m\u001b[38;5;241;43m.\u001b[39;49m\u001b[43mcreate\u001b[49m\u001b[43m(\u001b[49m\n\u001b[1;32m      3\u001b[0m \u001b[43m    \u001b[49m\u001b[43mname\u001b[49m\u001b[38;5;241;43m=\u001b[39;49m\u001b[38;5;124;43m\"\u001b[39;49m\u001b[38;5;124;43mE-commerce Analytics\u001b[39;49m\u001b[38;5;124;43m\"\u001b[39;49m\u001b[43m,\u001b[49m\n\u001b[1;32m      4\u001b[0m \u001b[43m    \u001b[49m\u001b[43mdescription\u001b[49m\u001b[38;5;241;43m=\u001b[39;49m\u001b[38;5;124;43m\"\u001b[39;49m\u001b[38;5;124;43mComplete e-commerce data analysis project with customer insights\u001b[39;49m\u001b[38;5;124;43m\"\u001b[39;49m\n\u001b[1;32m      5\u001b[0m \u001b[43m)\u001b[49m\n\u001b[1;32m      7\u001b[0m \u001b[38;5;28mprint\u001b[39m(\u001b[38;5;124m\"\u001b[39m\u001b[38;5;124m✅ Project created successfully!\u001b[39m\u001b[38;5;124m\"\u001b[39m)\n\u001b[1;32m      8\u001b[0m \u001b[38;5;28mprint\u001b[39m(\u001b[38;5;124mf\u001b[39m\u001b[38;5;124m\"\u001b[39m\u001b[38;5;124mProject ID: \u001b[39m\u001b[38;5;132;01m{\u001b[39;00mproject\u001b[38;5;241m.\u001b[39mid\u001b[38;5;132;01m}\u001b[39;00m\u001b[38;5;124m\"\u001b[39m)\n",
      "File \u001b[0;32m~/projects/h2o/text-2-everything/text2everything_sdk/resources/projects.py:100\u001b[0m, in \u001b[0;36mProjectsResource.create\u001b[0;34m(self, name, description, **kwargs)\u001b[0m\n\u001b[1;32m     93\u001b[0m data \u001b[38;5;241m=\u001b[39m ProjectCreate(\n\u001b[1;32m     94\u001b[0m     name\u001b[38;5;241m=\u001b[39mname,\n\u001b[1;32m     95\u001b[0m     description\u001b[38;5;241m=\u001b[39mdescription,\n\u001b[1;32m     96\u001b[0m     \u001b[38;5;241m*\u001b[39m\u001b[38;5;241m*\u001b[39mkwargs\n\u001b[1;32m     97\u001b[0m )\u001b[38;5;241m.\u001b[39mmodel_dump(exclude_none\u001b[38;5;241m=\u001b[39m\u001b[38;5;28;01mTrue\u001b[39;00m)\n\u001b[1;32m     99\u001b[0m response \u001b[38;5;241m=\u001b[39m \u001b[38;5;28mself\u001b[39m\u001b[38;5;241m.\u001b[39m_client\u001b[38;5;241m.\u001b[39mpost(\u001b[38;5;124m\"\u001b[39m\u001b[38;5;124mprojects\u001b[39m\u001b[38;5;124m\"\u001b[39m, data\u001b[38;5;241m=\u001b[39mdata)\n\u001b[0;32m--> 100\u001b[0m \u001b[38;5;28;01mreturn\u001b[39;00m \u001b[38;5;28;43mself\u001b[39;49m\u001b[38;5;241;43m.\u001b[39;49m\u001b[43m_create_model_instance\u001b[49m\u001b[43m(\u001b[49m\u001b[43mresponse\u001b[49m\u001b[43m,\u001b[49m\u001b[43m \u001b[49m\u001b[43mProject\u001b[49m\u001b[43m)\u001b[49m\n",
      "File \u001b[0;32m~/projects/h2o/text-2-everything/text2everything_sdk/resources/base.py:85\u001b[0m, in \u001b[0;36mBaseResource._create_model_instance\u001b[0;34m(self, data, model_class)\u001b[0m\n\u001b[1;32m     83\u001b[0m \u001b[38;5;28;01mdef\u001b[39;00m\u001b[38;5;250m \u001b[39m\u001b[38;5;21m_create_model_instance\u001b[39m(\u001b[38;5;28mself\u001b[39m, data: Dict[\u001b[38;5;28mstr\u001b[39m, Any], model_class: Type[T]) \u001b[38;5;241m-\u001b[39m\u001b[38;5;241m>\u001b[39m T:\n\u001b[1;32m     84\u001b[0m \u001b[38;5;250m    \u001b[39m\u001b[38;5;124;03m\"\"\"Create model instance from response data.\"\"\"\u001b[39;00m\n\u001b[0;32m---> 85\u001b[0m     \u001b[38;5;28;01mreturn\u001b[39;00m \u001b[43mmodel_class\u001b[49m\u001b[43m(\u001b[49m\u001b[38;5;241;43m*\u001b[39;49m\u001b[38;5;241;43m*\u001b[39;49m\u001b[43mdata\u001b[49m\u001b[43m)\u001b[49m\n",
      "File \u001b[0;32m~/miniconda3/envs/text2everything-sdk/lib/python3.10/site-packages/pydantic/main.py:253\u001b[0m, in \u001b[0;36mBaseModel.__init__\u001b[0;34m(self, **data)\u001b[0m\n\u001b[1;32m    251\u001b[0m \u001b[38;5;66;03m# `__tracebackhide__` tells pytest and some other tools to omit this function from tracebacks\u001b[39;00m\n\u001b[1;32m    252\u001b[0m __tracebackhide__ \u001b[38;5;241m=\u001b[39m \u001b[38;5;28;01mTrue\u001b[39;00m\n\u001b[0;32m--> 253\u001b[0m validated_self \u001b[38;5;241m=\u001b[39m \u001b[38;5;28;43mself\u001b[39;49m\u001b[38;5;241;43m.\u001b[39;49m\u001b[43m__pydantic_validator__\u001b[49m\u001b[38;5;241;43m.\u001b[39;49m\u001b[43mvalidate_python\u001b[49m\u001b[43m(\u001b[49m\u001b[43mdata\u001b[49m\u001b[43m,\u001b[49m\u001b[43m \u001b[49m\u001b[43mself_instance\u001b[49m\u001b[38;5;241;43m=\u001b[39;49m\u001b[38;5;28;43mself\u001b[39;49m\u001b[43m)\u001b[49m\n\u001b[1;32m    254\u001b[0m \u001b[38;5;28;01mif\u001b[39;00m \u001b[38;5;28mself\u001b[39m \u001b[38;5;129;01mis\u001b[39;00m \u001b[38;5;129;01mnot\u001b[39;00m validated_self:\n\u001b[1;32m    255\u001b[0m     warnings\u001b[38;5;241m.\u001b[39mwarn(\n\u001b[1;32m    256\u001b[0m         \u001b[38;5;124m'\u001b[39m\u001b[38;5;124mA custom validator is returning a value other than `self`.\u001b[39m\u001b[38;5;130;01m\\n\u001b[39;00m\u001b[38;5;124m'\u001b[39m\n\u001b[1;32m    257\u001b[0m         \u001b[38;5;124m\"\u001b[39m\u001b[38;5;124mReturning anything other than `self` from a top level model validator isn\u001b[39m\u001b[38;5;124m'\u001b[39m\u001b[38;5;124mt supported when validating via `__init__`.\u001b[39m\u001b[38;5;130;01m\\n\u001b[39;00m\u001b[38;5;124m\"\u001b[39m\n\u001b[1;32m    258\u001b[0m         \u001b[38;5;124m'\u001b[39m\u001b[38;5;124mSee the `model_validator` docs (https://docs.pydantic.dev/latest/concepts/validators/#model-validators) for more details.\u001b[39m\u001b[38;5;124m'\u001b[39m,\n\u001b[1;32m    259\u001b[0m         stacklevel\u001b[38;5;241m=\u001b[39m\u001b[38;5;241m2\u001b[39m,\n\u001b[1;32m    260\u001b[0m     )\n",
      "\u001b[0;31mValidationError\u001b[0m: 3 validation errors for Project\nid\n  Field required [type=missing, input_value={'error': 'Invalid JSON response'}, input_type=dict]\n    For further information visit https://errors.pydantic.dev/2.11/v/missing\ncreated_at\n  Field required [type=missing, input_value={'error': 'Invalid JSON response'}, input_type=dict]\n    For further information visit https://errors.pydantic.dev/2.11/v/missing\nname\n  Field required [type=missing, input_value={'error': 'Invalid JSON response'}, input_type=dict]\n    For further information visit https://errors.pydantic.dev/2.11/v/missing"
     ]
    }
   ],
   "source": [
    "# Create a new project with keyword arguments\n",
    "project = client.projects.create(\n",
    "    name=\"E-commerce Analytics\",\n",
    "    description=\"Complete e-commerce data analysis project with customer insights\"\n",
    ")\n",
    "\n",
    "print(\"✅ Project created successfully!\")\n",
    "print(f\"Project ID: {project.id}\")\n",
    "print(f\"Project Name: {project.name}\")\n",
    "print(f\"Description: {project.description}\")\n",
    "print(f\"Created At: {project.created_at}\")\n",
    "\n",
    "# Store the project ID for later use\n",
    "PROJECT_ID = project.id"
   ]
  },
  {
   "cell_type": "code",
   "execution_count": null,
   "metadata": {},
   "outputs": [],
   "source": [
    "# Create another project for demonstration\n",
    "marketing_project = client.projects.create(\n",
    "    name=\"Marketing Campaign Analysis\",\n",
    "    description=\"Analysis of marketing campaign performance and ROI\"\n",
    ")\n",
    "\n",
    "print(\"✅ Second project created!\")\n",
    "print(f\"Marketing Project ID: {marketing_project.id}\")\n",
    "print(f\"Marketing Project Name: {marketing_project.name}\")\n",
    "\n",
    "MARKETING_PROJECT_ID = marketing_project.id"
   ]
  },
  {
   "cell_type": "markdown",
   "metadata": {},
   "source": [
    "## 2. Listing Projects\n",
    "\n",
    "Retrieve all projects you have access to."
   ]
  },
  {
   "cell_type": "code",
   "execution_count": null,
   "metadata": {},
   "outputs": [],
   "source": [
    "# List all projects\n",
    "projects = client.projects.list()\n",
    "\n",
    "print(f\"✅ Found {len(projects)} projects:\")\n",
    "print(\"\\n\" + \"=\"*50)\n",
    "\n",
    "for project in projects:\n",
    "    print(f\"ID: {project.id}\")\n",
    "    print(f\"Name: {project.name}\")\n",
    "    print(f\"Description: {project.description}\")\n",
    "    print(f\"Created: {project.created_at}\")\n",
    "    print(\"-\" * 30)"
   ]
  },
  {
   "cell_type": "markdown",
   "metadata": {},
   "source": [
    "## 3. Retrieving a Specific Project\n",
    "\n",
    "Get detailed information about a specific project by its ID."
   ]
  },
  {
   "cell_type": "code",
   "execution_count": null,
   "metadata": {},
   "outputs": [],
   "source": [
    "# Get a specific project by ID\n",
    "retrieved_project = client.projects.get(PROJECT_ID)\n",
    "\n",
    "print(\"✅ Project retrieved successfully!\")\n",
    "print(f\"ID: {retrieved_project.id}\")\n",
    "print(f\"Name: {retrieved_project.name}\")\n",
    "print(f\"Description: {retrieved_project.description}\")\n",
    "print(f\"Created At: {retrieved_project.created_at}\")\n",
    "print(f\"Updated At: {retrieved_project.updated_at}\")"
   ]
  },
  {
   "cell_type": "markdown",
   "metadata": {},
   "source": [
    "## 4. Updating Projects\n",
    "\n",
    "Update project information using keyword arguments."
   ]
  },
  {
   "cell_type": "code",
   "execution_count": null,
   "metadata": {},
   "outputs": [],
   "source": [
    "# Update project with new information\n",
    "updated_project = client.projects.update(\n",
    "    PROJECT_ID,\n",
    "    name=\"E-commerce Analytics - Advanced\",\n",
    "    description=\"Advanced e-commerce data analysis with ML insights and customer segmentation\"\n",
    ")\n",
    "\n",
    "print(\"✅ Project updated successfully!\")\n",
    "print(f\"Updated Name: {updated_project.name}\")\n",
    "print(f\"Updated Description: {updated_project.description}\")\n",
    "print(f\"Updated At: {updated_project.updated_at}\")"
   ]
  },
  {
   "cell_type": "code",
   "execution_count": null,
   "metadata": {},
   "outputs": [],
   "source": [
    "# Update only the description\n",
    "description_updated = client.projects.update(\n",
    "    MARKETING_PROJECT_ID,\n",
    "    description=\"Comprehensive marketing campaign analysis with attribution modeling and customer journey mapping\"\n",
    ")\n",
    "\n",
    "print(\"✅ Project description updated!\")\n",
    "print(f\"Name (unchanged): {description_updated.name}\")\n",
    "print(f\"New Description: {description_updated.description}\")"
   ]
  },
  {
   "cell_type": "markdown",
   "metadata": {},
   "source": [
    "## 5. Checking Project Existence\n",
    "\n",
    "Verify if a project exists before performing operations."
   ]
  },
  {
   "cell_type": "code",
   "execution_count": null,
   "metadata": {},
   "outputs": [],
   "source": [
    "# Check if project exists\n",
    "exists = client.projects.exists(PROJECT_ID)\n",
    "print(f\"✅ Project {PROJECT_ID} exists: {exists}\")\n",
    "\n",
    "# Check a non-existent project\n",
    "fake_id = \"non-existent-project-id\"\n",
    "fake_exists = client.projects.exists(fake_id)\n",
    "print(f\"❌ Project {fake_id} exists: {fake_exists}\")"
   ]
  },
  {
   "cell_type": "markdown",
   "metadata": {},
   "source": [
    "## 6. Error Handling\n",
    "\n",
    "Demonstrate proper error handling when working with projects."
   ]
  },
  {
   "cell_type": "code",
   "execution_count": null,
   "metadata": {},
   "outputs": [],
   "source": [
    "# Example of handling errors when retrieving a non-existent project\n",
    "try:\n",
    "    non_existent_project = client.projects.get(\"invalid-project-id\")\n",
    "    print(\"This shouldn't print\")\n",
    "except NotFoundError as e:\n",
    "    print(f\"✅ Properly caught NotFoundError: {e}\")\n",
    "except Exception as e:\n",
    "    print(f\"❌ Unexpected error: {e}\")"
   ]
  },
  {
   "cell_type": "code",
   "execution_count": null,
   "metadata": {},
   "outputs": [],
   "source": [
    "# Example of validation error handling\n",
    "try:\n",
    "    # Try to create a project with invalid data\n",
    "    invalid_project = client.projects.create(\n",
    "        name=\"\",  # Empty name should cause validation error\n",
    "        description=\"Valid description\"\n",
    "    )\n",
    "except ValidationError as e:\n",
    "    print(f\"✅ Properly caught ValidationError: {e}\")\n",
    "except Exception as e:\n",
    "    print(f\"❌ Unexpected error: {e}\")"
   ]
  },
  {
   "cell_type": "markdown",
   "metadata": {},
   "source": [
    "## 7. Best Practices\n",
    "\n",
    "Here are some best practices when working with projects:"
   ]
  },
  {
   "cell_type": "code",
   "execution_count": null,
   "metadata": {},
   "outputs": [],
   "source": [
    "# Best Practice 1: Use descriptive names and descriptions\n",
    "best_practice_project = client.projects.create(\n",
    "    name=\"Customer Churn Prediction - Q4 2024\",\n",
    "    description=\"Machine learning project to predict customer churn using historical transaction data, customer demographics, and engagement metrics. Target: Identify at-risk customers for retention campaigns.\"\n",
    ")\n",
    "\n",
    "print(\"✅ Best practice project created with descriptive information!\")\n",
    "print(f\"Name: {best_practice_project.name}\")\n",
    "print(f\"Description: {best_practice_project.description}\")\n",
    "\n",
    "BP_PROJECT_ID = best_practice_project.id"
   ]
  },
  {
   "cell_type": "code",
   "execution_count": null,
   "metadata": {},
   "outputs": [],
   "source": [
    "# Best Practice 2: Always check existence before operations\n",
    "def safe_get_project(project_id):\n",
    "    \"\"\"Safely retrieve a project with existence check.\"\"\"\n",
    "    if client.projects.exists(project_id):\n",
    "        return client.projects.get(project_id)\n",
    "    else:\n",
    "        print(f\"⚠️ Project {project_id} does not exist\")\n",
    "        return None\n",
    "\n",
    "# Test the safe function\n",
    "safe_project = safe_get_project(PROJECT_ID)\n",
    "if safe_project:\n",
    "    print(f\"✅ Safely retrieved project: {safe_project.name}\")\n",
    "\n",
    "# Test with non-existent project\n",
    "safe_project_none = safe_get_project(\"non-existent-id\")"
   ]
  },
  {
   "cell_type": "code",
   "execution_count": null,
   "metadata": {},
   "outputs": [],
   "source": [
    "# Best Practice 3: Organize projects by domain/team\n",
    "domain_projects = [\n",
    "    {\n",
    "        \"name\": \"Sales Analytics - Q4 2024\",\n",
    "        \"description\": \"Sales team analytics for Q4 performance review\"\n",
    "    },\n",
    "    {\n",
    "        \"name\": \"HR Analytics - Employee Satisfaction\",\n",
    "        \"description\": \"HR team project for analyzing employee satisfaction surveys\"\n",
    "    },\n",
    "    {\n",
    "        \"name\": \"Finance Analytics - Budget Planning\",\n",
    "        \"description\": \"Finance team project for 2025 budget planning and forecasting\"\n",
    "    }\n",
    "]\n",
    "\n",
    "created_domain_projects = []\n",
    "for project_data in domain_projects:\n",
    "    project = client.projects.create(**project_data)\n",
    "    created_domain_projects.append(project)\n",
    "    print(f\"✅ Created: {project.name}\")\n",
    "\n",
    "print(f\"\\n✅ Created {len(created_domain_projects)} domain-organized projects!\")"
   ]
  },
  {
   "cell_type": "markdown",
   "metadata": {},
   "source": [
    "## 8. Project Lifecycle Management\n",
    "\n",
    "Demonstrate a complete project lifecycle from creation to updates."
   ]
  },
  {
   "cell_type": "code",
   "execution_count": null,
   "metadata": {},
   "outputs": [],
   "source": [
    "# Lifecycle example: Create -> Update -> Monitor\n",
    "lifecycle_project = client.projects.create(\n",
    "    name=\"Product Recommendation Engine\",\n",
    "    description=\"Initial phase: Data collection and exploration\"\n",
    ")\n",
    "\n",
    "print(f\"📅 Phase 1 - Project Created: {lifecycle_project.name}\")\n",
    "print(f\"Description: {lifecycle_project.description}\")\n",
    "\n",
    "# Simulate project progression\n",
    "import time\n",
    "time.sleep(1)  # Small delay to show time progression\n",
    "\n",
    "# Update for Phase 2\n",
    "phase2_project = client.projects.update(\n",
    "    lifecycle_project.id,\n",
    "    description=\"Phase 2: Model development and training\"\n",
    ")\n",
    "\n",
    "print(f\"📅 Phase 2 - Project Updated: {phase2_project.name}\")\n",
    "print(f\"New Description: {phase2_project.description}\")\n",
    "\n",
    "time.sleep(1)\n",
    "\n",
    "# Update for Phase 3\n",
    "phase3_project = client.projects.update(\n",
    "    lifecycle_project.id,\n",
    "    name=\"Product Recommendation Engine - Production\",\n",
    "    description=\"Phase 3: Production deployment and monitoring\"\n",
    ")\n",
    "\n",
    "print(f\"📅 Phase 3 - Project Finalized: {phase3_project.name}\")\n",
    "print(f\"Final Description: {phase3_project.description}\")\n",
    "\n",
    "LIFECYCLE_PROJECT_ID = lifecycle_project.id"
   ]
  },
  {
   "cell_type": "markdown",
   "metadata": {},
   "source": [
    "## 9. Summary and Cleanup\n",
    "\n",
    "Review what we've accomplished and clean up resources."
   ]
  },
  {
   "cell_type": "code",
   "execution_count": null,
   "metadata": {},
   "outputs": [],
   "source": [
    "# Summary of all projects created in this session\n",
    "all_projects = client.projects.list()\n",
    "\n",
    "print(\"📊 Projects Summary:\")\n",
    "print(\"=\" * 50)\n",
    "\n",
    "session_projects = [\n",
    "    PROJECT_ID, MARKETING_PROJECT_ID, BP_PROJECT_ID, \n",
    "    LIFECYCLE_PROJECT_ID\n",
    "] + [p.id for p in created_domain_projects]\n",
    "\n",
    "for project in all_projects:\n",
    "    if project.id in session_projects:\n",
    "        print(f\"🆕 {project.name}\")\n",
    "        print(f\"   ID: {project.id}\")\n",
    "        print(f\"   Description: {project.description[:60]}...\")\n",
    "        print()\n",
    "\n",
    "print(f\"✅ Total projects created in this session: {len(session_projects)}\")"
   ]
  },
  {
   "cell_type": "code",
   "execution_count": null,
   "metadata": {},
   "outputs": [],
   "source": [
    "# Close the client connection\n",
    "client.close()\n",
    "print(\"✅ Client connection closed\")\n",
    "\n",
    "print(\"\\n🎉 Projects Resource Demo Complete!\")\n",
    "print(\"\\n📚 What you learned:\")\n",
    "print(\"   • Creating projects with keyword arguments\")\n",
    "print(\"   • Listing and retrieving projects\")\n",
    "print(\"   • Updating project information\")\n",
    "print(\"   • Checking project existence\")\n",
    "print(\"   • Error handling best practices\")\n",
    "print(\"   • Project lifecycle management\")\n",
    "print(\"   • Organizing projects by domain/team\")"
   ]
  }
 ],
 "metadata": {
  "kernelspec": {
   "display_name": "text2everything-sdk",
   "language": "python",
   "name": "python3"
  },
  "language_info": {
   "codemirror_mode": {
    "name": "ipython",
    "version": 3
   },
   "file_extension": ".py",
   "mimetype": "text/x-python",
   "name": "python",
   "nbconvert_exporter": "python",
   "pygments_lexer": "ipython3",
   "version": "3.10.18"
  }
 },
 "nbformat": 4,
 "nbformat_minor": 4
}

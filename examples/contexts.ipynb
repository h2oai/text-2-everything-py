{
 "cells": [
  {
   "cell_type": "markdown",
   "metadata": {},
   "source": [
    "# Text2Everything SDK - Contexts Resource\n",
    "\n",
    "This notebook demonstrates how to use the **Contexts** resource in the Text2Everything SDK.\n",
    "\n",
    "Contexts provide business rules, definitions, and domain knowledge that help the AI understand your specific business requirements when generating SQL queries.\n",
    "\n",
    "## What you'll learn:\n",
    "- Create and manage business contexts\n",
    "- List and retrieve contexts\n",
    "- Update context information\n",
    "- Use contexts for better SQL generation\n",
    "- Best practices for context organization"
   ]
  },
  {
   "cell_type": "markdown",
   "metadata": {},
   "source": [
    "## Setup and Configuration"
   ]
  },
  {
   "cell_type": "code",
   "execution_count": null,
   "metadata": {},
   "outputs": [],
   "source": [
    "# Install/reinstall the SDK if needed\n",
    "!pip uninstall text2everything-sdk -y && cd .. && pip install -e .\n",
    "\n",
    "import sys\n",
    "import os\n",
    "\n",
    "# Add the SDK path to Python path if needed (for development)\n",
    "sdk_path = os.path.abspath('.')\n",
    "if sdk_path not in sys.path:\n",
    "    sys.path.insert(0, sdk_path)\n",
    "\n",
    "# Import the SDK\n",
    "from text2everything_sdk import Text2EverythingClient\n",
    "from text2everything_sdk.exceptions import (\n",
    "    AuthenticationError,\n",
    "    ValidationError,\n",
    "    NotFoundError,\n",
    "    RateLimitError\n",
    ")\n",
    "\n",
    "print(\"✅ SDK imported successfully!\")"
   ]
  },
  {
   "cell_type": "code",
   "execution_count": null,
   "metadata": {},
   "outputs": [],
   "source": [
    "# Configuration\n",
    "BASE_URL = \"https://your-api-endpoint.com\"  # Replace with your API endpoint\n",
    "ACCESS_TOKEN = \"your-access-token\"  # Replace with your access token\n",
    "WORKSPACE_NAME = \"workspaces/dev\"  # Optional workspace name\n",
    "\n",
    "# Initialize the Text2Everything client\n",
    "client = Text2EverythingClient(\n",
    "    base_url=BASE_URL,\n",
    "    access_token=ACCESS_TOKEN,\n",
    "    workspace_name=WORKSPACE_NAME,\n",
    "    timeout=60,\n",
    "    max_retries=3,\n",
    "    retry_delay=1.0\n",
    ")\n",
    "\n",
    "print(\"✅ Client initialized successfully!\")\n",
    "print(f\"Base URL: {client.base_url}\")"
   ]
  },
  {
   "cell_type": "code",
   "execution_count": null,
   "metadata": {},
   "outputs": [],
   "source": [
    "# Create a project for our context examples\n",
    "project = client.projects.create(\n",
    "    name=\"E-commerce Context Demo\",\n",
    "    description=\"Project to demonstrate context usage in e-commerce analytics\"\n",
    ")\n",
    "\n",
    "print(\"✅ Demo project created!\")\n",
    "print(f\"Project ID: {project.id}\")\n",
    "PROJECT_ID = project.id"
   ]
  },
  {
   "cell_type": "markdown",
   "metadata": {},
   "source": [
    "## 1. Creating Business Contexts\n",
    "\n",
    "Contexts help the AI understand your business rules and definitions when generating SQL queries."
   ]
  },
  {
   "cell_type": "code",
   "execution_count": null,
   "metadata": {},
   "outputs": [],
   "source": [
    "# Create a business rules context\n",
    "business_rules_context = client.contexts.create(\n",
    "    project_id=PROJECT_ID,\n",
    "    name=\"E-commerce Business Rules\",\n",
    "    description=\"Core business rules and calculations for e-commerce analytics\",\n",
    "    content=\"\"\"Business Rules:\n",
    "- Revenue = quantity * unit_price (only for completed orders)\n",
    "- Active customers have made a purchase in the last 90 days\n",
    "- High-value customers have lifetime value > $1000\n",
    "- Churn customers haven't purchased in 180+ days\n",
    "- Peak season: November-December (Black Friday, Christmas)\n",
    "- Working hours: 9 AM - 6 PM EST\n",
    "\n",
    "Calculations:\n",
    "- LTV (Lifetime Value) = SUM(all completed order values) per customer\n",
    "- AOV (Average Order Value) = Total Revenue / Number of Orders\n",
    "- Conversion Rate = (Orders / Website Visits) * 100\n",
    "- Return Rate = (Returned Items / Total Items Sold) * 100\n",
    "\"\"\",\n",
    "    is_always_displayed=True\n",
    ")\n",
    "\n",
    "print(\"✅ Business rules context created!\")\n",
    "print(f\"Context ID: {business_rules_context.id}\")\n",
    "print(f\"Name: {business_rules_context.name}\")\n",
    "print(f\"Always displayed: {business_rules_context.is_always_displayed}\")\n",
    "\n",
    "BUSINESS_RULES_ID = business_rules_context.id"
   ]
  },
  {
   "cell_type": "markdown",
   "metadata": {},
   "source": [
    "## 2. Summary and Cleanup\n",
    "\n",
    "Review what we've accomplished and clean up resources."
   ]
  },
  {
   "cell_type": "code",
   "execution_count": null,
   "metadata": {},
   "outputs": [],
   "source": [
    "# Summary of contexts created in this session\n",
    "all_contexts = client.contexts.list(project_id=PROJECT_ID)\n",
    "\n",
    "print(\"📊 Contexts Summary:\")\n",
    "print(\"=\" * 50)\n",
    "\n",
    "for context in all_contexts:\n",
    "    print(f\"🆕 {context.name}\")\n",
    "    print(f\"   ID: {context.id}\")\n",
    "    print(f\"   Description: {context.description[:60]}...\")\n",
    "    print(f\"   Always Displayed: {context.is_always_displayed}\")\n",
    "    print()\n",
    "\n",
    "print(f\"✅ Total contexts created in this session: {len(all_contexts)}\")"
   ]
  },
  {
   "cell_type": "code",
   "execution_count": null,
   "metadata": {},
   "outputs": [],
   "source": [
    "# Close the client connection\n",
    "client.close()\n",
    "print(\"✅ Client connection closed\")\n",
    "\n",
    "print(\"\\n🎉 Contexts Resource Demo Complete!\")\n",
    "print(\"\\n📚 What you learned:\")\n",
    "print(\"   • Creating contexts with keyword arguments\")\n",
    "print(\"   • Listing and retrieving contexts\")\n",
    "print(\"   • Updating context information\")\n",
    "print(\"   • Using contexts for better SQL generation\")\n",
    "print(\"   • Best practices for context organization\")\n",
    "print(\"   • Domain-specific context creation\")\n",
    "print(\"   • Context versioning strategies\")"
   ]
  }
 ],
 "metadata": {
  "kernelspec": {
   "display_name": "Python 3",
   "language": "python",
   "name": "python3"
  },
  "language_info": {
   "codemirror_mode": {
    "name": "ipython",
    "version": 3
   },
   "file_extension": ".py",
   "mimetype": "text/x-python",
   "name": "python",
   "nbconvert_exporter": "python",
   "pygments_lexer": "ipython3",
   "version": "3.8.0"
  }
 },
 "nbformat": 4,
 "nbformat_minor": 4
}

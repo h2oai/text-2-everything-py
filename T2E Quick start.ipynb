{
 "cells": [
  {
   "cell_type": "markdown",
   "metadata": {},
   "source": [
    "# Text2Everything SDK - Complete End-to-End Example\n",
    "\n",
    "This notebook demonstrates a complete workflow using the Text2Everything SDK:\n",
    "**Project → Context → Golden Example → Schema → Connector → Session → Chat → Feedback**\n",
    "\n",
    "## Prerequisites\n",
    "\n",
    "1. Install the SDK: `pip install text2everything-sdk`\n",
    "2. Have your API endpoint and API key ready\n",
    "3. Ensure you have access to the Text2Everything API\n",
    "4. Have a database connection available for the connector example"
   ]
  },
  {
   "cell_type": "markdown",
   "metadata": {},
   "source": [
    "## Setup and Configuration"
   ]
  },
  {
   "cell_type": "code",
   "execution_count": 1,
   "metadata": {},
   "outputs": [
    {
     "name": "stdout",
     "output_type": "stream",
     "text": [
      "Processing ./text2everything_sdk-0.1.3-py3-none-any.whl\n",
      "Installing collected packages: text2everything-sdk\n",
      "Successfully installed text2everything-sdk-0.1.3\n"
     ]
    }
   ],
   "source": [
    "import sys\n",
    "import os\n",
    "\n",
    "# Install the Text2Everything SDK (local installation)\n",
    "!{sys.executable} -m pip install --upgrade ./text2everything_sdk-0.1.3-py3-none-any.whl"
   ]
  },
  {
   "cell_type": "code",
   "execution_count": null,
   "metadata": {},
   "outputs": [
    {
     "name": "stdout",
     "output_type": "stream",
     "text": [
      "✅ SDK imported successfully!\n",
      "Connecting to: http://text2everything-dev.dev-text2everything.svc.cluster.local:8000\n"
     ]
    }
   ],
   "source": [
    "# Import the SDK\n",
    "from text2everything_sdk import Text2EverythingClient\n",
    "from text2everything_sdk.exceptions import (\n",
    "    AuthenticationError,\n",
    "    ValidationError,\n",
    "    NotFoundError,\n",
    "    RateLimitError\n",
    ")\n",
    "\n",
    "print(\"✅ SDK imported successfully!\")\n",
    "\n",
    "# Configuration\n",
    "BASE_URL = \"http://text2everything-dev.dev-text2everything.svc.cluster.local:8000\"  # Replace with your API endpoint\n",
    "API_KEY = \"sk-xxxxx\"  # Replace with your API key\n",
    "\n",
    "print(f\"Connecting to: {BASE_URL}\")"
   ]
  },
  {
   "cell_type": "markdown",
   "metadata": {},
   "source": [
    "## Initialize the Client"
   ]
  },
  {
   "cell_type": "code",
   "execution_count": 4,
   "metadata": {},
   "outputs": [
    {
     "name": "stdout",
     "output_type": "stream",
     "text": [
      "✅ Client initialized successfully!\n",
      "Base URL: http://text2everything-dev.dev-text2everything.svc.cluster.local:8000\n"
     ]
    }
   ],
   "source": [
    "# Initialize the Text2Everything client\n",
    "client = Text2EverythingClient(\n",
    "    base_url=BASE_URL,\n",
    "    api_key=API_KEY\n",
    ")\n",
    "\n",
    "print(\"✅ Client initialized successfully!\")\n",
    "print(f\"Base URL: {client.base_url}\")"
   ]
  },
  {
   "cell_type": "code",
   "execution_count": 16,
   "metadata": {},
   "outputs": [],
   "source": [
    "# ??client.projects\n",
    "project = client.projects.get_by_name('test-bulk')\n",
    "PROJECT_ID = project.id"
   ]
  },
  {
   "cell_type": "markdown",
   "metadata": {},
   "source": [
    "## 1. 🆕 Projects - Simplified Creation"
   ]
  },
  {
   "cell_type": "code",
   "execution_count": 11,
   "metadata": {},
   "outputs": [
    {
     "name": "stdout",
     "output_type": "stream",
     "text": [
      "✅ Project created with new API pattern!\n",
      "Project ID: a374742b-3f50-47e0-972e-4ee9613c5965\n",
      "Project Name: E-commerce Analytics\n"
     ]
    }
   ],
   "source": [
    "# 🆕 NEW: Direct keyword arguments\n",
    "project = client.projects.create(\n",
    "    name=\"E-commerce Analytics\",\n",
    "    description=\"Complete e-commerce data analysis project\"\n",
    ")\n",
    "\n",
    "print(\"✅ Project created with new API pattern!\")\n",
    "print(f\"Project ID: {project.id}\")\n",
    "print(f\"Project Name: {project.name}\")\n",
    "\n",
    "PROJECT_ID = project.id"
   ]
  },
  {
   "cell_type": "markdown",
   "metadata": {},
   "source": [
    "## 2. 🆕 Contexts - Simplified Creation"
   ]
  },
  {
   "cell_type": "code",
   "execution_count": null,
   "metadata": {},
   "outputs": [],
   "source": [
    "# 🆕 NEW: Direct keyword arguments\n",
    "context = client.contexts.create(\n",
    "    project_id=PROJECT_ID,\n",
    "    name=\"E-commerce Business Rules\",\n",
    "    description=\"Business rules and definitions for e-commerce analytics\",\n",
    "    content=\"\"\"Business Rules:\n",
    "- Revenue = quantity * unit_price\n",
    "- Active customers have made a purchase in the last 90 days\n",
    "- High-value customers have lifetime value > $1000\n",
    "\n",
    "Definitions:\n",
    "- LTV: Customer Lifetime Value\n",
    "- AOV: Average Order Value\n",
    "- Churn: Customers who haven't purchased in 180+ days\n",
    "\"\"\",\n",
    "    is_always_displayed=True\n",
    ")\n",
    "\n",
    "print(\"✅ Context created with new API pattern!\")\n",
    "print(f\"Context ID: {context.id}\")\n",
    "print(f\"Always displayed: {context.is_always_displayed}\")"
   ]
  },
  {
   "cell_type": "markdown",
   "metadata": {},
   "source": [
    "## 3. 🆕 Golden Examples - Simplified Creation & Bulk Operations"
   ]
  },
  {
   "cell_type": "code",
   "execution_count": null,
   "metadata": {},
   "outputs": [],
   "source": [
    "# 🆕 NEW: Individual creation with keyword arguments\n",
    "example1 = client.golden_examples.create(\n",
    "    project_id=PROJECT_ID,\n",
    "    user_query=\"What is our total revenue?\",\n",
    "    sql_query=\"SELECT SUM(quantity * unit_price) as total_revenue FROM orders WHERE status = 'completed';\",\n",
    "    description=\"Calculate total revenue from all completed orders\",\n",
    "    is_always_displayed=True\n",
    ")\n",
    "\n",
    "print(\"✅ Golden example created with new API pattern!\")\n",
    "print(f\"Example ID: {example1.id}\")\n",
    "\n",
    "# 🆕 NEW: Bulk creation with list of dictionaries\n",
    "examples_data = [\n",
    "    {\n",
    "        \"user_query\": \"Who are our top 10 customers by total spending?\",\n",
    "        \"sql_query\": \"SELECT c.customer_id, c.name, SUM(o.quantity * o.unit_price) as total_spent FROM customers c JOIN orders o ON c.customer_id = o.customer_id WHERE o.status = 'completed' GROUP BY c.customer_id, c.name ORDER BY total_spent DESC LIMIT 10;\",\n",
    "        \"description\": \"Find top 10 customers by total spending\"\n",
    "    },\n",
    "    {\n",
    "        \"user_query\": \"Show me monthly sales for this year\",\n",
    "        \"sql_query\": \"SELECT DATE_TRUNC('month', order_date) as month, SUM(quantity * unit_price) as monthly_revenue FROM orders WHERE status = 'completed' AND EXTRACT(YEAR FROM order_date) = EXTRACT(YEAR FROM CURRENT_DATE) GROUP BY DATE_TRUNC('month', order_date) ORDER BY month;\",\n",
    "        \"description\": \"Monthly sales trend for the current year\"\n",
    "    }\n",
    "]\n",
    "\n",
    "bulk_examples = client.golden_examples.bulk_create(\n",
    "    project_id=PROJECT_ID,\n",
    "    golden_examples=examples_data\n",
    ")\n",
    "\n",
    "print(f\"✅ Bulk created {len(bulk_examples)} examples with new API pattern!\")"
   ]
  },
  {
   "cell_type": "markdown",
   "metadata": {},
   "source": [
    "## 4. 🆕 Schema Metadata - Simplified Creation & Bulk Operations"
   ]
  },
  {
   "cell_type": "code",
   "execution_count": null,
   "metadata": {},
   "outputs": [],
   "source": [
    "# 🆕 NEW: Individual creation with keyword arguments\n",
    "customers_schema = client.schema_metadata.create(\n",
    "    project_id=PROJECT_ID,\n",
    "    name=\"customers_table\",\n",
    "    description=\"Customer information table\",\n",
    "    schema_data={\n",
    "        \"table\": {\n",
    "            \"name\": \"customers\",\n",
    "            \"columns\": [\n",
    "                {\"name\": \"customer_id\", \"type\": \"INTEGER\", \"primary_key\": True},\n",
    "                {\"name\": \"name\", \"type\": \"VARCHAR(100)\", \"nullable\": False},\n",
    "                {\"name\": \"email\", \"type\": \"VARCHAR(255)\", \"unique\": True},\n",
    "                {\"name\": \"registration_date\", \"type\": \"DATE\"},\n",
    "                {\"name\": \"is_active\", \"type\": \"BOOLEAN\", \"default\": True}\n",
    "            ]\n",
    "        }\n",
    "    },\n",
    "    is_always_displayed=True,\n",
    "    validate=True\n",
    ")\n",
    "\n",
    "print(\"✅ Schema metadata created with new API pattern!\")\n",
    "print(f\"Schema ID: {customers_schema.id}\")\n",
    "\n",
    "# 🆕 NEW: Bulk creation with list of dictionaries\n",
    "schemas_data = [\n",
    "    {\n",
    "        \"name\": \"orders_table\",\n",
    "        \"description\": \"Order transactions table\",\n",
    "        \"schema_data\": {\n",
    "            \"table\": {\n",
    "                \"name\": \"orders\",\n",
    "                \"columns\": [\n",
    "                    {\"name\": \"order_id\", \"type\": \"INTEGER\", \"primary_key\": True},\n",
    "                    {\"name\": \"customer_id\", \"type\": \"INTEGER\", \"foreign_key\": \"customers.customer_id\"},\n",
    "                    {\"name\": \"product_id\", \"type\": \"INTEGER\", \"foreign_key\": \"products.product_id\"},\n",
    "                    {\"name\": \"quantity\", \"type\": \"INTEGER\"},\n",
    "                    {\"name\": \"unit_price\", \"type\": \"DECIMAL(10,2)\"},\n",
    "                    {\"name\": \"order_date\", \"type\": \"TIMESTAMP\"},\n",
    "                    {\"name\": \"status\", \"type\": \"VARCHAR(20)\", \"default\": \"pending\"}\n",
    "                ]\n",
    "            }\n",
    "        }\n",
    "    },\n",
    "    {\n",
    "        \"name\": \"products_table\",\n",
    "        \"description\": \"Product catalog table\",\n",
    "        \"schema_data\": {\n",
    "            \"table\": {\n",
    "                \"name\": \"products\",\n",
    "                \"columns\": [\n",
    "                    {\"name\": \"product_id\", \"type\": \"INTEGER\", \"primary_key\": True},\n",
    "                    {\"name\": \"name\", \"type\": \"VARCHAR(200)\"},\n",
    "                    {\"name\": \"category\", \"type\": \"VARCHAR(50)\"},\n",
    "                    {\"name\": \"price\", \"type\": \"DECIMAL(10,2)\"},\n",
    "                    {\"name\": \"in_stock\", \"type\": \"BOOLEAN\"}\n",
    "                ]\n",
    "            }\n",
    "        }\n",
    "    }\n",
    "]\n",
    "\n",
    "bulk_schemas = client.schema_metadata.bulk_create(\n",
    "    project_id=PROJECT_ID,\n",
    "    schema_metadata_list=schemas_data,\n",
    "    validate=True\n",
    ")\n",
    "\n",
    "print(f\"✅ Bulk created {len(bulk_schemas)} schemas with new API pattern!\")"
   ]
  },
  {
   "cell_type": "markdown",
   "metadata": {},
   "source": [
    "## 5. 🆕 Connectors - Simplified Creation with Smart Defaults"
   ]
  },
  {
   "cell_type": "code",
   "execution_count": 14,
   "metadata": {},
   "outputs": [
    {
     "name": "stdout",
     "output_type": "stream",
     "text": [
      "✅ Snowflake environment variables set successfully!\n"
     ]
    }
   ],
   "source": [
    "import os\n",
    "\n",
    "# Set Snowflake environment variables\n",
    "snowflake_config = {\n",
    "    'SNOWFLAKE_HOST': 'H2OAIORG-H2O_AI_SNOWPARK_CONTAINERS.snowflakecomputing.com',\n",
    "    'SNOWFLAKE_USERNAME': 'SERVICE_TEXT_2_EVERYTHING',\n",
    "    'SNOWFLAKE_PASSWORD': '***REMOVED_TOKEN***',\n",
    "    'SNOWFLAKE_DATABASE': 'TEXT_2_EVERYTHING',\n",
    "    'SNOWFLAKE_WAREHOUSE': 'TEXT_2_EVERYTHING_WH',\n",
    "    'SNOWFLAKE_ROLE': 'TEXT_2_EVERYTHING_ADMIN'\n",
    "}\n",
    "\n",
    "# Set all environment variables\n",
    "for key, value in snowflake_config.items():\n",
    "    os.environ[key] = value\n",
    "\n",
    "print(\"✅ Snowflake environment variables set successfully!\")\n"
   ]
  },
  {
   "cell_type": "code",
   "execution_count": 15,
   "metadata": {},
   "outputs": [
    {
     "name": "stdout",
     "output_type": "stream",
     "text": [
      "✅ Connector created with new API pattern!\n",
      "Connector ID: cb39d1d4-e78c-47b8-8da3-f7185e8f194f\n",
      "Database Type: snowflake\n",
      "Host: H2OAIORG-H2O_AI_SNOWPARK_CONTAINERS.snowflakecomputing.com:443\n",
      "🆕 Smart default port: 443 (auto-detected for snowflake)\n",
      "Database: TEXT_2_EVERYTHING\n",
      "Warehouse: TEXT_2_EVERYTHING_WH\n",
      "Role: TEXT_2_EVERYTHING_ADMIN\n",
      "\n",
      "🆕 Smart Port Defaults:\n",
      "  - postgres: 5432\n",
      "  - mysql: 3306\n",
      "  - sqlserver: 1433\n",
      "  - snowflake: 443\n"
     ]
    }
   ],
   "source": [
    "# 🆕 NEW: Direct keyword arguments with smart port defaults\n",
    "# Using H2O AI Snowflake connector for demo data\n",
    "connector = client.connectors.create(\n",
    "    name=\"h2o-snowflake-connector\",\n",
    "    description=\"H2O AI Snowflake connector for Text2Everything demo data\",\n",
    "    db_type=\"snowflake\",  # Smart default: port=443\n",
    "    host=os.getenv(\"SNOWFLAKE_HOST\"),\n",
    "    username=os.getenv(\"SNOWFLAKE_USERNAME\"),\n",
    "    password=os.getenv(\"SNOWFLAKE_PASSWORD\"),\n",
    "    database=os.getenv(\"SNOWFLAKE_DATABASE\"),\n",
    "    config={\n",
    "        \"warehouse\": os.getenv(\"SNOWFLAKE_WAREHOUSE\"),\n",
    "        \"role\": os.getenv(\"SNOWFLAKE_ROLE\")\n",
    "    }\n",
    ")\n",
    "\n",
    "# Alternative PostgreSQL example (commented out):\n",
    "# connector = client.connectors.create(\n",
    "#     name=\"E-commerce Database\",\n",
    "#     description=\"Production e-commerce PostgreSQL database\",\n",
    "#     db_type=\"postgres\",  # Smart default: port=5432\n",
    "#     host=\"localhost\",\n",
    "#     # port is optional - defaults to 5432 for postgres\n",
    "#     username=\"ecommerce_user\",\n",
    "#     password=\"your_password\",\n",
    "#     database=\"ecommerce_db\"\n",
    "# )\n",
    "\n",
    "print(\"✅ Connector created with new API pattern!\")\n",
    "print(f\"Connector ID: {connector.id}\")\n",
    "print(f\"Database Type: {connector.db_type}\")\n",
    "print(f\"Host: {connector.host}:{connector.port}\")\n",
    "print(f\"🆕 Smart default port: {connector.port} (auto-detected for {connector.db_type})\")\n",
    "print(f\"Database: {connector.database}\")\n",
    "if hasattr(connector, 'config') and connector.config:\n",
    "    print(f\"Warehouse: {connector.config.get('warehouse', 'N/A')}\")\n",
    "    print(f\"Role: {connector.config.get('role', 'N/A')}\")\n",
    "\n",
    "CONNECTOR_ID = connector.id\n",
    "\n",
    "# Example of other database types with smart defaults:\n",
    "print(\"\\n🆕 Smart Port Defaults:\")\n",
    "print(\"  - postgres: 5432\")\n",
    "print(\"  - mysql: 3306\")\n",
    "print(\"  - sqlserver: 1433\")\n",
    "print(\"  - snowflake: 443\")"
   ]
  },
  {
   "cell_type": "markdown",
   "metadata": {},
   "source": [
    "## 6. 🆕 Chat Sessions - Simplified Creation"
   ]
  },
  {
   "cell_type": "code",
   "execution_count": 49,
   "metadata": {},
   "outputs": [
    {
     "name": "stdout",
     "output_type": "stream",
     "text": [
      "✅ Chat session created with new API pattern!\n",
      "Session ID: 1e30396e-b19d-4180-80c0-014eca8276b5\n",
      "Session Name: Testing 1212\n"
     ]
    }
   ],
   "source": [
    "# 🆕 NEW: Direct keyword arguments\n",
    "session = client.chat_sessions.create(\n",
    "    project_id=PROJECT_ID,\n",
    "    name=\"Testing 1212\",\n",
    "    description=\"Testing 12 12\"\n",
    ")\n",
    "\n",
    "print(\"✅ Chat session created with new API pattern!\")\n",
    "print(f\"Session ID: {session.id}\")\n",
    "print(f\"Session Name: {session.name}\")\n",
    "\n",
    "SESSION_ID = session.id"
   ]
  },
  {
   "cell_type": "markdown",
   "metadata": {},
   "source": [
    "## 7. 🆕 Chat Methods - Simplified Text-to-SQL"
   ]
  },
  {
   "cell_type": "code",
   "execution_count": null,
   "metadata": {},
   "outputs": [
    {
     "name": "stdout",
     "output_type": "stream",
     "text": [
      "✅ SQL generated with new API pattern!\n",
      "Generated SQL: \n"
     ]
    }
   ],
   "source": [
    "# 🆕 NEW: chat_to_sql with keyword arguments\n",
    "sql_response = client.chat.chat_to_sql(\n",
    "    project_id=PROJECT_ID,\n",
    "    chat_session_id=SESSION_ID,\n",
    "    query=\"Cuantas suscripciones el mes pasado?\",\n",
    "    h2ogpte_session_id=SESSION_ID\n",
    "    # schema_metadata_id=customers_schema.id,\n",
    "    # contexts_limit=10,\n",
    "    # examples_limit=10,\n",
    "    # schema_limit=100\n",
    ")\n",
    "\n",
    "print(\"✅ SQL generated with new API pattern!\")\n",
    "print(f\"Generated SQL: {sql_response.sql_query}\")\n"
   ]
  },
  {
   "cell_type": "markdown",
   "metadata": {},
   "source": [
    "## 1.7. 🆕 Executions -  Chat-to-Answer"
   ]
  },
  {
   "cell_type": "code",
   "execution_count": 45,
   "metadata": {},
   "outputs": [
    {
     "name": "stdout",
     "output_type": "stream",
     "text": [
      "✅ Chat session created with new API pattern!\n",
      "Session ID: 13ffa0d6-b24a-4e33-8bf5-b20129daa1fc\n",
      "Session Name: Testing 1212\n"
     ]
    }
   ],
   "source": [
    "# 🆕 NEW: Direct keyword arguments\n",
    "session = client.chat_sessions.create(\n",
    "    project_id=PROJECT_ID,\n",
    "    name=\"Testing 1212\",\n",
    "    description=\"Testing 12 12\"\n",
    ")\n",
    "\n",
    "print(\"✅ Chat session created with new API pattern!\")\n",
    "print(f\"Session ID: {session.id}\")\n",
    "print(f\"Session Name: {session.name}\")\n",
    "\n",
    "SESSION_ID = session.id\n"
   ]
  },
  {
   "cell_type": "code",
   "execution_count": null,
   "metadata": {},
   "outputs": [
    {
     "name": "stdout",
     "output_type": "stream",
     "text": [
      "✅ Answer generated with new API pattern!\n",
      "Answer: {'data': [['DATABASE_VERSION'], ['9.25.1']], 'columns': ['DATABASE_VERSION'], 'rowCount': 1}\n"
     ]
    }
   ],
   "source": [
    "\n",
    "# 🆕 NEW: chat_to_answer with keyword arguments (connector_id now required)\n",
    "answer_response = client.chat.chat_to_answer(\n",
    "    project_id=PROJECT_ID,\n",
    "    chat_session_id=SESSION_ID,\n",
    "    query=\"Database version\",\n",
    "    h2ogpte_session_id=SESSION_ID,\n",
    "    connector_id=CONNECTOR_ID,  # 🆕 Now required for better reliability\n",
    "    # schema_metadata_id=customers_schema.id,\n",
    "    contexts_limit=1,\n",
    "    examples_limit=1,\n",
    "    schema_limit=1\n",
    ")\n",
    "\n",
    "print(\"✅ Answer generated with new API pattern!\")\n",
    "print(f\"Answer: {answer_response.execution_result.result if hasattr(answer_response, 'execution_result') else 'N/A'}\")"
   ]
  },
  {
   "cell_type": "markdown",
   "metadata": {},
   "source": [
    "## 8. 🆕 Executions - Simplified SQL Execution"
   ]
  },
  {
   "cell_type": "code",
   "execution_count": null,
   "metadata": {},
   "outputs": [],
   "source": [
    "# 🆕 NEW: execute_sql with keyword arguments\n",
    "execution_result = client.executions.execute_sql(\n",
    "    connector_id=CONNECTOR_ID,\n",
    "    chat_message_id=sql_response.id,\n",
    "    sql_query=\"SELECT COUNT(*) as customer_count FROM customers WHERE is_active = true;\",\n",
    "    h2ogpte_session_id=\"session_123\"\n",
    ")\n",
    "\n",
    "print(\"✅ SQL executed with new API pattern!\")\n",
    "print(f\"Execution ID: {execution_result.id}\")\n",
    "print(f\"Status: {execution_result.status}\")\n",
    "if execution_result.results:\n",
    "    print(f\"Results: {execution_result.results}\")"
   ]
  },
  {
   "cell_type": "markdown",
   "metadata": {},
   "source": [
    "## 9. 🆕 Feedback - Simplified Feedback Creation"
   ]
  },
  {
   "cell_type": "code",
   "execution_count": null,
   "metadata": {},
   "outputs": [],
   "source": [
    "# 🆕 NEW: Direct keyword arguments for feedback\n",
    "positive_feedback = client.feedback.create(\n",
    "    project_id=PROJECT_ID,\n",
    "    chat_message_id=sql_response.id,\n",
    "    feedback=\"Perfect SQL query! Exactly what I needed.\",\n",
    "    is_positive=True,\n",
    "    execution_id=execution_result.execution_id\n",
    ")\n",
    "\n",
    "print(\"✅ Positive feedback created with new API pattern!\")\n",
    "print(f\"Feedback ID: {positive_feedback.id}\")\n",
    "print(f\"Is Positive: {positive_feedback.is_positive}\")\n",
    "\n",
    "# 🆕 NEW: Helper methods also use new pattern\n",
    "negative_feedback = client.feedback.create_negative(\n",
    "    project_id=PROJECT_ID,\n",
    "    chat_message_id=sql_response.id,\n",
    "    feedback=\"Query could be improved with better filtering.\"\n",
    ")\n",
    "\n",
    "print(\"✅ Negative feedback created with helper method!\")\n",
    "print(f\"Feedback ID: {negative_feedback.id}\")"
   ]
  },
  {
   "cell_type": "markdown",
   "metadata": {},
   "source": [
    "## 10. 🆕 Update Operations - Simplified Updates"
   ]
  },
  {
   "cell_type": "code",
   "execution_count": null,
   "metadata": {},
   "outputs": [],
   "source": [
    "# 🆕 NEW: Update operations with keyword arguments\n",
    "\n",
    "# Update project\n",
    "updated_project = client.projects.update(\n",
    "    project_id=PROJECT_ID,\n",
    "    name=\"E-commerce Analytics - Updated\",\n",
    "    description=\"Updated description with new insights\"\n",
    ")\n",
    "\n",
    "print(\"✅ Project updated with new API pattern!\")\n",
    "print(f\"New name: {updated_project.name}\")\n",
    "\n",
    "# Update connector\n",
    "updated_connector = client.connectors.update(\n",
    "    connector_id=CONNECTOR_ID,\n",
    "    name=\"E-commerce Database - Production\",\n",
    "    description=\"Updated production database connector\"\n",
    ")\n",
    "\n",
    "print(\"✅ Connector updated with new API pattern!\")\n",
    "print(f\"New name: {updated_connector.name}\")\n",
    "\n",
    "# Update schema metadata\n",
    "updated_schema = client.schema_metadata.update(\n",
    "    schema_id=customers_schema.id,\n",
    "    name=\"customers_table_v2\",\n",
    "    description=\"Updated customer information table with new fields\"\n",
    ")\n",
    "\n",
    "print(\"✅ Schema metadata updated with new API pattern!\")\n",
    "print(f\"New name: {updated_schema.name}\")"
   ]
  },
  {
   "cell_type": "code",
   "execution_count": null,
   "metadata": {},
   "outputs": [],
   "source": [
    "# Clean up\n",
    "client.close()\n",
    "print(\"✅ Client connection closed\")\n",
    "print(\"\\n🎉 API Patterns Demo Complete!\")"
   ]
  }
 ],
 "metadata": {
  "kernelspec": {
   "display_name": "Python",
   "language": "python",
   "name": "h2o-kernel-py"
  },
  "language_info": {
   "codemirror_mode": {
    "name": "ipython",
    "version": 3
   },
   "file_extension": ".py",
   "mimetype": "text/x-python",
   "name": "python",
   "nbconvert_exporter": "python",
   "pygments_lexer": "ipython3",
   "version": "3.13.6"
  }
 },
 "nbformat": 4,
 "nbformat_minor": 4
}

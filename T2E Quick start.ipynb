{
 "cells": [
  {
   "cell_type": "markdown",
   "metadata": {},
   "source": [
    "# Text2Everything SDK - Complete End-to-End Example\n",
    "\n",
    "This notebook demonstrates a complete workflow using the Text2Everything SDK:\n",
    "**Project → Context → Golden Example → Schema → Connector → Session → Chat → Feedback**\n",
    "\n",
    "## Prerequisites\n",
    "\n",
    "1. Install the SDK: `pip install text2everything-sdk`\n",
    "2. Have your API endpoint and API key ready\n",
    "3. Ensure you have access to the Text2Everything API\n",
    "4. Have a database connection available for the connector example"
   ]
  },
  {
   "cell_type": "markdown",
   "metadata": {},
   "source": [
    "## Setup and Configuration"
   ]
  },
  {
   "cell_type": "code",
   "execution_count": null,
   "metadata": {},
   "outputs": [],
   "source": [
    "import sys\n",
    "import os\n",
    "from dotenv import load_dotenv\n",
    "\n",
    "# Load environment variables from .env file\n",
    "load_dotenv()\n",
    "\n",
    "# Install the Text2Everything SDK (local installation)\n",
    "!{sys.executable} -m pip install --upgrade ./text2everything_sdk-0.1.6-py3-none-any.whl"
   ]
  },
  {
   "cell_type": "code",
   "execution_count": null,
   "metadata": {},
   "outputs": [],
   "source": [
    "# Import the SDK\n",
    "from text2everything_sdk import Text2EverythingClient\n",
    "from text2everything_sdk.exceptions import (\n",
    "    AuthenticationError,\n",
    "    ValidationError,\n",
    "    NotFoundError,\n",
    "    RateLimitError\n",
    ")\n",
    "\n",
    "print(\"✅ SDK imported successfully!\")\n",
    "\n",
    "# Configuration\n",
    "ACCESS_TOKEN = \"\"  # Replace with your OIDC access token\n",
    "WORKSPACE_NAME = \"\"  # Optional workspace name"
   ]
  },
  {
   "cell_type": "markdown",
   "metadata": {},
   "source": [
    "## Initialize the Client"
   ]
  },
  {
   "cell_type": "code",
   "execution_count": null,
   "metadata": {},
   "outputs": [],
   "source": [
    "# Initialize the Text2Everything client\n",
    "client = Text2EverythingClient(\n",
    "    access_token=ACCESS_TOKEN,\n",
    "    workspace_name=WORKSPACE_NAME,\n",
    ")\n",
    "\n",
    "print(\"✅ Client initialized successfully!\")"
   ]
  },
  {
   "cell_type": "markdown",
   "metadata": {},
   "source": [
    "## 1. 🆕 Projects - Simplified Creation"
   ]
  },
  {
   "cell_type": "code",
   "execution_count": null,
   "metadata": {},
   "outputs": [],
   "source": [
    "# 🆕 NEW: Direct keyword arguments\n",
    "project = client.projects.create(\n",
    "    name=\"my-first-project\",\n",
    "    description=\"My first project\"\n",
    ")\n",
    "\n",
    "print(f\"Project ID: {project.id}\")\n",
    "print(f\"Project Name: {project.name}\")\n",
    "\n",
    "PROJECT_ID = project.id"
   ]
  },
  {
   "cell_type": "markdown",
   "metadata": {},
   "source": [
    "## 2. 🆕 Contexts - Simplified Creation"
   ]
  },
  {
   "cell_type": "code",
   "execution_count": null,
   "metadata": {},
   "outputs": [],
   "source": [
    "context = client.contexts.create(\n",
    "    project_id=PROJECT_ID,\n",
    "    name=\"E-commerce Business Rules\",\n",
    "    description=\"Business rules and definitions for e-commerce analytics\",\n",
    "    content=\"\"\"Business Rules:\n",
    "- Revenue = quantity * unit_price\n",
    "- Active customers have made a purchase in the last 90 days\n",
    "- High-value customers have lifetime value > $1000\n",
    "\n",
    "Definitions:\n",
    "- LTV: Customer Lifetime Value\n",
    "- AOV: Average Order Value\n",
    "- Churn: Customers who haven't purchased in 180+ days\n",
    "\"\"\",\n",
    "    is_always_displayed=False\n",
    ")\n",
    "\n",
    "print(f\"Context ID: {context.id}\")\n",
    "print(f\"Always displayed: {context.is_always_displayed}\")"
   ]
  },
  {
   "cell_type": "markdown",
   "metadata": {},
   "source": [
    "## 3. 🆕 Golden Examples - Simplified Creation & Bulk Operations"
   ]
  },
  {
   "cell_type": "code",
   "execution_count": null,
   "metadata": {},
   "outputs": [],
   "source": [
    "example1 = client.golden_examples.create(\n",
    "    project_id=PROJECT_ID,\n",
    "    user_query=\"What is our total revenue?\",\n",
    "    sql_query=\"SELECT SUM(quantity * unit_price) as total_revenue FROM orders WHERE status = 'completed';\",\n",
    "    description=\"Calculate total revenue from all completed orders\",\n",
    "    is_always_displayed=False\n",
    ")\n",
    "\n",
    "print(\"✅ Golden example created with new API pattern!\")\n",
    "print(f\"Example ID: {example1.id}\")\n",
    "\n",
    "# 🆕 NEW: Bulk creation with list of dictionaries\n",
    "examples_data = [\n",
    "    {\n",
    "        \"user_query\": \"Who are our top 10 customers by total spending?\",\n",
    "        \"sql_query\": \"SELECT c.customer_id, c.name, SUM(o.quantity * o.unit_price) as total_spent FROM customers c JOIN orders o ON c.customer_id = o.customer_id WHERE o.status = 'completed' GROUP BY c.customer_id, c.name ORDER BY total_spent DESC LIMIT 10;\",\n",
    "        \"description\": \"Find top 10 customers by total spending\"\n",
    "    },\n",
    "    {\n",
    "        \"user_query\": \"Show me monthly sales for this year\",\n",
    "        \"sql_query\": \"SELECT DATE_TRUNC('month', order_date) as month, SUM(quantity * unit_price) as monthly_revenue FROM orders WHERE status = 'completed' AND EXTRACT(YEAR FROM order_date) = EXTRACT(YEAR FROM CURRENT_DATE) GROUP BY DATE_TRUNC('month', order_date) ORDER BY month;\",\n",
    "        \"description\": \"Monthly sales trend for the current year\"\n",
    "    }\n",
    "]\n",
    "\n",
    "bulk_examples = client.golden_examples.bulk_create(\n",
    "    project_id=PROJECT_ID,\n",
    "    golden_examples=examples_data\n",
    ")\n",
    "\n",
    "print(f\"✅ Bulk created {len(bulk_examples)} examples with new API pattern!\")"
   ]
  },
  {
   "cell_type": "markdown",
   "metadata": {},
   "source": [
    "## 4. 🆕 Schema Metadata - Simplified Creation & Bulk Operations"
   ]
  },
  {
   "cell_type": "code",
   "execution_count": null,
   "metadata": {},
   "outputs": [],
   "source": [
    "# 🆕 NEW: Individual creation with keyword arguments\n",
    "customers_schema = client.schema_metadata.create(\n",
    "    project_id=PROJECT_ID,\n",
    "    name=\"customers_table\",\n",
    "    description=\"Customer information table\",\n",
    "    schema_data={\n",
    "        \"table\": {\n",
    "            \"name\": \"customers\",\n",
    "            \"columns\": [\n",
    "                {\"name\": \"customer_id\", \"type\": \"INTEGER\", \"primary_key\": True},\n",
    "                {\"name\": \"name\", \"type\": \"VARCHAR(100)\", \"nullable\": False},\n",
    "                {\"name\": \"email\", \"type\": \"VARCHAR(255)\", \"unique\": True},\n",
    "                {\"name\": \"registration_date\", \"type\": \"DATE\"},\n",
    "                {\"name\": \"is_active\", \"type\": \"BOOLEAN\", \"default\": True}\n",
    "            ]\n",
    "        }\n",
    "    },\n",
    "    is_always_displayed=False,\n",
    "    validate=True # we like to validate this complex structure\n",
    ")\n",
    "\n",
    "print(f\"Schema ID: {customers_schema.id}\")\n",
    "\n",
    "# 🆕 NEW: Bulk creation with list of dictionaries\n",
    "schemas_data = [\n",
    "    {\n",
    "        \"name\": \"orders_table\",\n",
    "        \"description\": \"Order transactions table\",\n",
    "        \"schema_data\": {\n",
    "            \"table\": {\n",
    "                \"name\": \"orders\",\n",
    "                \"columns\": [\n",
    "                    {\"name\": \"order_id\", \"type\": \"INTEGER\", \"primary_key\": True},\n",
    "                    {\"name\": \"customer_id\", \"type\": \"INTEGER\", \"foreign_key\": \"customers.customer_id\"},\n",
    "                    {\"name\": \"product_id\", \"type\": \"INTEGER\", \"foreign_key\": \"products.product_id\"},\n",
    "                    {\"name\": \"quantity\", \"type\": \"INTEGER\"},\n",
    "                    {\"name\": \"unit_price\", \"type\": \"DECIMAL(10,2)\"},\n",
    "                    {\"name\": \"order_date\", \"type\": \"TIMESTAMP\"},\n",
    "                    {\"name\": \"status\", \"type\": \"VARCHAR(20)\", \"default\": \"pending\"}\n",
    "                ]\n",
    "            }\n",
    "        }\n",
    "    },\n",
    "    {\n",
    "        \"name\": \"products_table\",\n",
    "        \"description\": \"Product catalog table\",\n",
    "        \"schema_data\": {\n",
    "            \"table\": {\n",
    "                \"name\": \"products\",\n",
    "                \"columns\": [\n",
    "                    {\"name\": \"product_id\", \"type\": \"INTEGER\", \"primary_key\": True},\n",
    "                    {\"name\": \"name\", \"type\": \"VARCHAR(200)\"},\n",
    "                    {\"name\": \"category\", \"type\": \"VARCHAR(50)\"},\n",
    "                    {\"name\": \"price\", \"type\": \"DECIMAL(10,2)\"},\n",
    "                    {\"name\": \"in_stock\", \"type\": \"BOOLEAN\"}\n",
    "                ]\n",
    "            }\n",
    "        }\n",
    "    }\n",
    "]\n",
    "\n",
    "bulk_schemas = client.schema_metadata.bulk_create(\n",
    "    project_id=PROJECT_ID,\n",
    "    schema_metadata_list=schemas_data,\n",
    "    validate=True  # we like to validate this complex structure\n",
    ")\n",
    "\n",
    "print(f\"✅ Bulk created {len(bulk_schemas)} schemas!\")"
   ]
  },
  {
   "cell_type": "markdown",
   "metadata": {},
   "source": [
    "## 5. 🆕 Connectors - Simplified Creation with Smart Defaults"
   ]
  },
  {
   "cell_type": "code",
   "execution_count": null,
   "metadata": {},
   "outputs": [],
   "source": [
    "# Using Snowflake connector\n",
    "connector = client.connectors.create(\n",
    "    name=\"snowflake-connector\",\n",
    "    description=\"Snowflake connector for project My First Project\",\n",
    "    db_type=\"snowflake\",  # Smart default: port=443\n",
    "    host=os.getenv(\"SNOWFLAKE_HOST\"),\n",
    "    username=os.getenv(\"SNOWFLAKE_USERNAME\"),\n",
    "    password=os.getenv(\"SNOWFLAKE_PASSWORD\"),\n",
    "    database=os.getenv(\"SNOWFLAKE_DATABASE\"),\n",
    "    config={\n",
    "        \"warehouse\": os.getenv(\"SNOWFLAKE_WAREHOUSE\"),\n",
    "        \"role\": os.getenv(\"SNOWFLAKE_ROLE\")\n",
    "    }\n",
    ")\n",
    "\n",
    "print(\"✅ Connector created with new API pattern!\")\n",
    "print(f\"Connector ID: {connector.id}\")\n",
    "print(f\"Database Type: {connector.db_type}\")\n",
    "print(f\"Host: {connector.host}:{connector.port}\")\n",
    "print(f\"🆕 Smart default port: {connector.port} (auto-detected for {connector.db_type})\")\n",
    "print(f\"Database: {connector.database}\")\n",
    "if hasattr(connector, 'config') and connector.config:\n",
    "    print(f\"Warehouse: {connector.config.get('warehouse', 'N/A')}\")\n",
    "    print(f\"Role: {connector.config.get('role', 'N/A')}\")\n",
    "\n",
    "CONNECTOR_ID = connector.id"
   ]
  },
  {
   "cell_type": "markdown",
   "metadata": {},
   "source": [
    "## 6. 🆕 Chat Sessions - Simplified Creation"
   ]
  },
  {
   "cell_type": "code",
   "execution_count": null,
   "metadata": {},
   "outputs": [],
   "source": [
    "session = client.chat_sessions.create(\n",
    "    project_id=PROJECT_ID,\n",
    "    name=\"Testing 1212\",\n",
    "    description=\"Testing 12 12\"\n",
    ")\n",
    "\n",
    "print(f\"Session ID: {session.id}\")\n",
    "print(f\"Session Name: {session.name}\")\n",
    "\n",
    "SESSION_ID = session.id"
   ]
  },
  {
   "cell_type": "markdown",
   "metadata": {},
   "source": [
    "## 7. 🆕 Chat Methods - Simplified Text-to-SQL"
   ]
  },
  {
   "cell_type": "code",
   "execution_count": null,
   "metadata": {},
   "outputs": [],
   "source": [
    "sql_response = client.chat.chat_to_sql(\n",
    "    project_id=PROJECT_ID,\n",
    "    chat_session_id=SESSION_ID,\n",
    "    query=\"Cuantas suscripciones el mes pasado?\"\n",
    "    # contexts_limit=10,\n",
    "    # examples_limit=10,\n",
    "    # schema_limit=60\n",
    ")\n",
    "\n",
    "print(f\"Generated SQL: {sql_response.sql_query}\")"
   ]
  },
  {
   "cell_type": "markdown",
   "metadata": {},
   "source": [
    "## 1.7. 🆕 Executions -  Chat-to-Answer"
   ]
  },
  {
   "cell_type": "code",
   "execution_count": null,
   "metadata": {},
   "outputs": [],
   "source": [
    "answer_response = client.chat.chat_to_answer(\n",
    "    project_id=PROJECT_ID,\n",
    "    chat_session_id=SESSION_ID,\n",
    "    query=\"What's the database version\",\n",
    "    connector_id=CONNECTOR_ID,  # the resulting sql query gets executed against the connector\n",
    "    contexts_limit=1,\n",
    "    examples_limit=1,\n",
    "    schema_limit=1\n",
    ")\n",
    "\n",
    "print(f\"Answer: {answer_response.execution_result.result if hasattr(answer_response, 'execution_result') else 'N/A'}\")"
   ]
  },
  {
   "cell_type": "markdown",
   "metadata": {},
   "source": [
    "## 8. 🆕 Executions - Simplified SQL Execution"
   ]
  },
  {
   "cell_type": "code",
   "execution_count": null,
   "metadata": {},
   "outputs": [],
   "source": [
    "# 🆕 NEW: execute_sql with keyword arguments\n",
    "execution_result = client.executions.execute_sql(\n",
    "    connector_id=CONNECTOR_ID,\n",
    "    chat_message_id=sql_response.id,\n",
    "    sql_query=\"SELECT COUNT(*) as customer_count FROM customers WHERE is_active = true;\",\n",
    "    chat_session_id=\"session_123\"\n",
    ")\n",
    "\n",
    "print(\"✅ SQL executed with new API pattern!\")\n",
    "print(f\"Execution ID: {execution_result.id}\")\n",
    "print(f\"Status: {execution_result.status}\")\n",
    "if execution_result.results:\n",
    "    print(f\"Results: {execution_result.results}\")"
   ]
  },
  {
   "cell_type": "markdown",
   "metadata": {},
   "source": [
    "## 9. 🆕 Feedback - Simplified Feedback Creation"
   ]
  },
  {
   "cell_type": "code",
   "execution_count": null,
   "metadata": {},
   "outputs": [],
   "source": [
    "positive_feedback = client.feedback.create(\n",
    "    project_id=PROJECT_ID,\n",
    "    chat_message_id=sql_response.id,\n",
    "    feedback=\"Perfect SQL query! Exactly what I needed.\",\n",
    "    is_positive=True,\n",
    "    execution_id=execution_result.execution_id\n",
    ")\n",
    "\n",
    "print(f\"Feedback ID: {positive_feedback.id}\")\n",
    "print(f\"Is Positive: {positive_feedback.is_positive}\")\n",
    "\n",
    "\n",
    "negative_feedback = client.feedback.create_negative(\n",
    "    project_id=PROJECT_ID,\n",
    "    chat_message_id=sql_response.id,\n",
    "    feedback=\"Query could be improved with better filtering.\"\n",
    ")\n",
    "\n",
    "print(f\"Feedback ID: {negative_feedback.id}\")"
   ]
  },
  {
   "cell_type": "markdown",
   "metadata": {},
   "source": [
    "## 10. 🆕 Update Operations - Simplified Updates"
   ]
  },
  {
   "cell_type": "code",
   "execution_count": null,
   "metadata": {},
   "outputs": [],
   "source": [
    "# Update project\n",
    "updated_project = client.projects.update(\n",
    "    project_id=PROJECT_ID,\n",
    "    name=\"E-commerce Analytics - Updated\",\n",
    "    description=\"Updated description with new insights\"\n",
    ")\n",
    "\n",
    "\n",
    "print(f\"New name: {updated_project.name}\")\n",
    "\n",
    "# Update connector\n",
    "updated_connector = client.connectors.update(\n",
    "    connector_id=CONNECTOR_ID,\n",
    "    name=\"E-commerce Database - Production\",\n",
    "    description=\"Updated production database connector\"\n",
    ")\n",
    "\n",
    "print(\"✅ Connector updated with new API pattern!\")\n",
    "print(f\"New name: {updated_connector.name}\")\n",
    "\n",
    "# Update schema metadata\n",
    "updated_schema = client.schema_metadata.update(\n",
    "    schema_id=customers_schema.id,\n",
    "    name=\"customers_table_v2\",\n",
    "    description=\"Updated customer information table with new fields\"\n",
    ")\n",
    "\n",
    "print(f\"New name: {updated_schema.name}\")"
   ]
  },
  {
   "cell_type": "code",
   "execution_count": null,
   "metadata": {},
   "outputs": [],
   "source": [
    "# Clean up\n",
    "client.close()\n",
    "print(\"✅ Client connection closed\")\n",
    "print(\"\\n🎉 API Patterns Demo Complete!\")"
   ]
  }
 ],
 "metadata": {
  "kernelspec": {
   "display_name": "text2everything",
   "language": "python",
   "name": "python3"
  },
  "language_info": {
   "codemirror_mode": {
    "name": "ipython",
    "version": 3
   },
   "file_extension": ".py",
   "mimetype": "text/x-python",
   "name": "python",
   "nbconvert_exporter": "python",
   "pygments_lexer": "ipython3",
   "version": "3.10.18"
  }
 },
 "nbformat": 4,
 "nbformat_minor": 4
}
